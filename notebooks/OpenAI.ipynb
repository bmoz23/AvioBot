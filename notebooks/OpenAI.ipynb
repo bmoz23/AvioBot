{
 "cells": [
  {
   "cell_type": "code",
   "execution_count": 2,
   "id": "7e3f1e70-4d05-4398-9abe-e433ff42f919",
   "metadata": {
    "scrolled": true
   },
   "outputs": [
    {
     "name": "stdout",
     "output_type": "stream",
     "text": [
      "Note: you may need to restart the kernel to use updated packages.\n"
     ]
    },
    {
     "name": "stderr",
     "output_type": "stream",
     "text": [
      "ERROR: Exception:\n",
      "Traceback (most recent call last):\n",
      "  File \"C:\\Users\\DELL\\AppData\\Local\\Programs\\Python\\Python312\\Lib\\site-packages\\pip\\_internal\\cli\\base_command.py\", line 180, in exc_logging_wrapper\n",
      "    status = run_func(*args)\n",
      "             ^^^^^^^^^^^^^^^\n",
      "  File \"C:\\Users\\DELL\\AppData\\Local\\Programs\\Python\\Python312\\Lib\\site-packages\\pip\\_internal\\cli\\req_command.py\", line 245, in wrapper\n",
      "    return func(self, options, args)\n",
      "           ^^^^^^^^^^^^^^^^^^^^^^^^^\n",
      "  File \"C:\\Users\\DELL\\AppData\\Local\\Programs\\Python\\Python312\\Lib\\site-packages\\pip\\_internal\\commands\\install.py\", line 377, in run\n",
      "    requirement_set = resolver.resolve(\n",
      "                      ^^^^^^^^^^^^^^^^^\n",
      "  File \"C:\\Users\\DELL\\AppData\\Local\\Programs\\Python\\Python312\\Lib\\site-packages\\pip\\_internal\\resolution\\resolvelib\\resolver.py\", line 95, in resolve\n",
      "    result = self._result = resolver.resolve(\n",
      "                            ^^^^^^^^^^^^^^^^^\n",
      "  File \"C:\\Users\\DELL\\AppData\\Local\\Programs\\Python\\Python312\\Lib\\site-packages\\pip\\_vendor\\resolvelib\\resolvers.py\", line 546, in resolve\n",
      "    state = resolution.resolve(requirements, max_rounds=max_rounds)\n",
      "            ^^^^^^^^^^^^^^^^^^^^^^^^^^^^^^^^^^^^^^^^^^^^^^^^^^^^^^^\n",
      "  File \"C:\\Users\\DELL\\AppData\\Local\\Programs\\Python\\Python312\\Lib\\site-packages\\pip\\_vendor\\resolvelib\\resolvers.py\", line 427, in resolve\n",
      "    failure_causes = self._attempt_to_pin_criterion(name)\n",
      "                     ^^^^^^^^^^^^^^^^^^^^^^^^^^^^^^^^^^^^\n",
      "  File \"C:\\Users\\DELL\\AppData\\Local\\Programs\\Python\\Python312\\Lib\\site-packages\\pip\\_vendor\\resolvelib\\resolvers.py\", line 239, in _attempt_to_pin_criterion\n",
      "    criteria = self._get_updated_criteria(candidate)\n",
      "               ^^^^^^^^^^^^^^^^^^^^^^^^^^^^^^^^^^^^^\n",
      "  File \"C:\\Users\\DELL\\AppData\\Local\\Programs\\Python\\Python312\\Lib\\site-packages\\pip\\_vendor\\resolvelib\\resolvers.py\", line 230, in _get_updated_criteria\n",
      "    self._add_to_criteria(criteria, requirement, parent=candidate)\n",
      "  File \"C:\\Users\\DELL\\AppData\\Local\\Programs\\Python\\Python312\\Lib\\site-packages\\pip\\_vendor\\resolvelib\\resolvers.py\", line 148, in _add_to_criteria\n",
      "    matches = self._p.find_matches(\n",
      "              ^^^^^^^^^^^^^^^^^^^^^\n",
      "  File \"C:\\Users\\DELL\\AppData\\Local\\Programs\\Python\\Python312\\Lib\\site-packages\\pip\\_internal\\resolution\\resolvelib\\provider.py\", line 231, in find_matches\n",
      "    return self._factory.find_candidates(\n",
      "           ^^^^^^^^^^^^^^^^^^^^^^^^^^^^^^\n",
      "  File \"C:\\Users\\DELL\\AppData\\Local\\Programs\\Python\\Python312\\Lib\\site-packages\\pip\\_internal\\resolution\\resolvelib\\factory.py\", line 446, in find_candidates\n",
      "    return self._iter_found_candidates(\n",
      "           ^^^^^^^^^^^^^^^^^^^^^^^^^^^^\n",
      "  File \"C:\\Users\\DELL\\AppData\\Local\\Programs\\Python\\Python312\\Lib\\site-packages\\pip\\_internal\\resolution\\resolvelib\\factory.py\", line 338, in _iter_found_candidates\n",
      "    _get_installed_candidate(),\n",
      "    ^^^^^^^^^^^^^^^^^^^^^^^^^^\n",
      "  File \"C:\\Users\\DELL\\AppData\\Local\\Programs\\Python\\Python312\\Lib\\site-packages\\pip\\_internal\\resolution\\resolvelib\\factory.py\", line 284, in _get_installed_candidate\n",
      "    if not specifier.contains(installed_dist.version, prereleases=True):\n",
      "                              ^^^^^^^^^^^^^^^^^^^^^^\n",
      "  File \"C:\\Users\\DELL\\AppData\\Local\\Programs\\Python\\Python312\\Lib\\site-packages\\pip\\_internal\\metadata\\importlib\\_dists.py\", line 177, in version\n",
      "    return parse_version(self._dist.version)\n",
      "           ^^^^^^^^^^^^^^^^^^^^^^^^^^^^^^^^^\n",
      "  File \"C:\\Users\\DELL\\AppData\\Local\\Programs\\Python\\Python312\\Lib\\site-packages\\pip\\_vendor\\packaging\\version.py\", line 49, in parse\n",
      "    return Version(version)\n",
      "           ^^^^^^^^^^^^^^^^\n",
      "  File \"C:\\Users\\DELL\\AppData\\Local\\Programs\\Python\\Python312\\Lib\\site-packages\\pip\\_vendor\\packaging\\version.py\", line 264, in __init__\n",
      "    match = self._regex.search(version)\n",
      "            ^^^^^^^^^^^^^^^^^^^^^^^^^^^\n",
      "TypeError: expected string or bytes-like object, got 'NoneType'\n",
      "\n",
      "[notice] A new release of pip is available: 24.0 -> 24.1.2\n",
      "[notice] To update, run: python.exe -m pip install --upgrade pip\n"
     ]
    }
   ],
   "source": [
    "pip install -r ./requirements.txt -q"
   ]
  },
  {
   "cell_type": "markdown",
   "id": "c0dd7aba-a5f1-4800-af21-0a7cd043f391",
   "metadata": {},
   "source": [
    "## Python Dotenv"
   ]
  },
  {
   "cell_type": "code",
   "execution_count": 5,
   "id": "d607575b-2f5a-40a3-b72e-78f70ec3b8aa",
   "metadata": {},
   "outputs": [
    {
     "data": {
      "text/plain": [
       "True"
      ]
     },
     "execution_count": 5,
     "metadata": {},
     "output_type": "execute_result"
    }
   ],
   "source": [
    "import os\n",
    "from dotenv import find_dotenv, load_dotenv\n",
    "load_dotenv(find_dotenv(\"req.env\"), override=True)\n",
    "\n",
    "#os.environ.get(\"OPENAI_API_KEY\")"
   ]
  },
  {
   "cell_type": "code",
   "execution_count": 6,
   "id": "fa61249e-bcdc-40b7-8083-73663fc2ec8a",
   "metadata": {},
   "outputs": [],
   "source": [
    "from langchain_openai import ChatOpenAI\n",
    "\n",
    "llm =ChatOpenAI()\n",
    "#output= llm.invoke(\"explain the OOP in one sentence\")\n",
    "#print(output.content)"
   ]
  },
  {
   "cell_type": "code",
   "execution_count": 8,
   "id": "e9247a0a-1149-4bd3-b2c3-c80208f3446f",
   "metadata": {},
   "outputs": [
    {
     "name": "stdout",
     "output_type": "stream",
     "text": [
      "Uçağı yukarıya kaldırmak için ilk önce havalanma hızına ulaşmalısınız. Daha sonra kontrol yüzeylerini kullanarak uçağı yukarıya doğru kaldırabilirsiniz. Uçağı yukarıya kaldırmak için yükseklik dümesini aşağıya itmeniz gerekmektedir. Bu işlemi yaparken aynı zamanda hızı da kontrol etmeyi unutmayın.\n"
     ]
    }
   ],
   "source": [
    "from langchain.schema import (\n",
    "    SystemMessage,\n",
    "    AIMessage,\n",
    "    HumanMessage\n",
    ")\n",
    "\n",
    "messages= [\n",
    "    SystemMessage(content=\"Sen pilota uçuş esnasında yardımcı olacak olan bir kopilot gibisin. Pilot sana ne sorarsa ona cevap verirsin.\"),\n",
    "    HumanMessage(content=\"Uçağı nasıl yukarıya kaldıracağım?\")\n",
    "]\n",
    "\n",
    "output= llm.invoke(messages)\n",
    "print(output.content)"
   ]
  },
  {
   "cell_type": "markdown",
   "id": "2f8c48fb-24c2-4e26-ae70-5c76ee960300",
   "metadata": {},
   "source": [
    "## Caching LLM Responses"
   ]
  },
  {
   "cell_type": "markdown",
   "id": "f50dd161-f436-4ccb-89ed-e8693058c36e",
   "metadata": {},
   "source": [
    "* We will go over caching in LangChain to boost performance and save costs\n",
    "* Caching is the practice of storing frequently accessed data or results in a temprorary, faster storage layer. In the otherwords, caching is the practice of storing the responses of language models (such as GPT-4) for reuse. This technique is used to increase efficiency, reduce latency, and lower computational costs.\n",
    "* Caching optimizes interactions with LLMs by reducing API calls and speeding up applications, resulting in a more efficient user experience.\n",
    "*  Here's how it works:\n",
    "\n",
    "Storing Responses: When a request is made to the language model and a response is generated, this response is stored in a cache along with the corresponding input or query.\n",
    "\n",
    "Cache Lookup: For subsequent requests, the system first checks the cache to see if the response for the given query already exists.\n",
    "\n",
    "Cache Hit: If the response is found in the cache (a cache hit), it is returned immediately without invoking the language model again.\n",
    "\n",
    "Cache Miss: If the response is not found in the cache (a cache miss), the language model processes the query, generates a response, and stores this new response in the cache for future use.\n",
    "\n",
    "* Benefits of LLM Caching:\n",
    "1) Performance Improvement: Significantly reduces response time for repeated queries.\n",
    "2) Cost Efficiency: Lowers the computational cost by reducing the number of times the language model needs to be invoked.\n",
    "3) Resource Optimization: Frees up system resources by minimizing redundant computations.\n",
    "* Implementation Considerations:\n",
    "1) Cache Size: Determining the appropriate size of the cache to balance between storage costs and cache hit rate.\n",
    "2) Eviction Policy: Choosing a policy for removing old or less frequently used entries (e.g., Least Recently Used (LRU), First In First Out (FIFO)).\n",
    "3) Cache Invalidation: Deciding when to invalidate or refresh cache entries, especially if the underlying data or model changes.\n",
    "\n",
    "LangChain provides two different caching In-memory cache and SQLite cache."
   ]
  },
  {
   "cell_type": "markdown",
   "id": "d5ca8f9e-bd0f-41ca-b6e1-c0a03ecba9d1",
   "metadata": {},
   "source": [
    "### 1) In-Memory Cache"
   ]
  },
  {
   "cell_type": "code",
   "execution_count": 23,
   "id": "e0a65aa3-ebf0-4d23-878e-778e728fa0b4",
   "metadata": {},
   "outputs": [],
   "source": [
    "from langchain.globals import set_llm_cache\n",
    "from langchain_openai import OpenAI\n",
    "from langchain.cache import InMemoryCache\n",
    "\n",
    "llm = OpenAI(model_name=\"gpt-3.5-turbo-instruct\")#choose slower model"
   ]
  },
  {
   "cell_type": "code",
   "execution_count": 26,
   "id": "5b0b3eda-c543-4dbe-aa38-d995519e01d2",
   "metadata": {},
   "outputs": [
    {
     "name": "stdout",
     "output_type": "stream",
     "text": [
      "CPU times: total: 15.6 ms\n",
      "Wall time: 891 ms\n"
     ]
    },
    {
     "data": {
      "text/plain": [
       "'\\n\\nBroccoli'"
      ]
     },
     "execution_count": 26,
     "metadata": {},
     "output_type": "execute_result"
    }
   ],
   "source": [
    "%%time\n",
    "\n",
    "set_llm_cache(InMemoryCache())\n",
    "prompt=\"give me a vegetables that is green.\"\n",
    "llm.invoke(prompt)"
   ]
  },
  {
   "cell_type": "code",
   "execution_count": 28,
   "id": "7c628cbe-7c69-4875-a874-c4174fe02f3a",
   "metadata": {},
   "outputs": [
    {
     "name": "stdout",
     "output_type": "stream",
     "text": [
      "CPU times: total: 0 ns\n",
      "Wall time: 998 μs\n"
     ]
    },
    {
     "data": {
      "text/plain": [
       "'\\n\\nBroccoli'"
      ]
     },
     "execution_count": 28,
     "metadata": {},
     "output_type": "execute_result"
    }
   ],
   "source": [
    "%%time\n",
    "llm.invoke(prompt)"
   ]
  },
  {
   "cell_type": "markdown",
   "id": "24a891ae-068f-415e-a8e1-3f452d0fc961",
   "metadata": {},
   "source": [
    "## 2) SQLite Cache"
   ]
  },
  {
   "cell_type": "code",
   "execution_count": 29,
   "id": "28640db6-0356-4d9f-9ea5-b7111fc9dd8a",
   "metadata": {},
   "outputs": [
    {
     "data": {
      "text/plain": [
       "\"\\n\\nWhy don't scientists trust atoms?\\n\\nBecause they make up everything.\""
      ]
     },
     "execution_count": 29,
     "metadata": {},
     "output_type": "execute_result"
    }
   ],
   "source": [
    "from langchain.cache import SQLiteCache\n",
    "\n",
    "set_llm_cache(SQLiteCache(database_path=\".langchain.db\"))\n",
    "\n",
    "#First request(not in cache, takes Longer)\n",
    "llm.invoke(\"Tell me a joke\")\n",
    "\n",
    "#Second request (cached, faster)\n",
    "llm.invoke(\"Tell me a joke\")"
   ]
  },
  {
   "cell_type": "markdown",
   "id": "28c4ac2e-a790-4385-b804-f6c3408bde9a",
   "metadata": {},
   "source": [
    "# Streaming the Response"
   ]
  },
  {
   "cell_type": "markdown",
   "id": "a8578d57-b247-4ecd-b16b-55caefdc518a",
   "metadata": {},
   "source": [
    "* Streaming refers to the process of delivering the response in a continuous stream of data instead of sending the entire response at once.This allows the user to recieve the response piece by piece as it is generated, which can improve the user experience and reduce the overall latency"
   ]
  },
  {
   "cell_type": "code",
   "execution_count": 7,
   "id": "e0545719-d8ff-4114-ab9b-8c3578b2a63b",
   "metadata": {},
   "outputs": [
    {
     "name": "stdout",
     "output_type": "stream",
     "text": [
      "One of the most popular songs by Metallica is \"Enter Sandman.\""
     ]
    }
   ],
   "source": [
    "llm=ChatOpenAI()\n",
    "prompt_For_Streaming=\"Give the song name that is the most popular from Metallica.\"\n",
    "#print(llm.ivoke(prompt_For_Streaming).content)\n",
    "\n",
    "for chunk in llm.stream(prompt_For_Streaming):\n",
    "    print(chunk.content, end='', flush=True)"
   ]
  },
  {
   "cell_type": "markdown",
   "id": "dc4af310-c899-4d03-8800-a044561ab4fa",
   "metadata": {},
   "source": [
    "# Prompt Template"
   ]
  },
  {
   "cell_type": "markdown",
   "id": "b49b3b75-8619-473d-a069-0af156f0c0ab",
   "metadata": {},
   "source": [
    "* A prompt refers to the input to the model\n",
    "* Prompt templates are a way to create dynamic prompts for LLMs\n",
    "* A prompt template takes a piece of text and injects a user's input into that piece of text\n",
    "* In LangChain there are PromptTemplates and ChatPromptTemplates"
   ]
  },
  {
   "cell_type": "code",
   "execution_count": 35,
   "id": "953a6b52-d1e4-4809-b5ea-1e074f32dcac",
   "metadata": {},
   "outputs": [
    {
     "data": {
      "text/plain": [
       "'You are a computer engineer.\\nWrite a few sentences about the following algorithm \"A* Search\" in Turkish.'"
      ]
     },
     "execution_count": 35,
     "metadata": {},
     "output_type": "execute_result"
    }
   ],
   "source": [
    "from langchain.prompts import PromptTemplate\n",
    "from langchain_openai import ChatOpenAI\n",
    "\n",
    "template ='''You are a computer engineer.\n",
    "Write a few sentences about the following algorithm \"{algo}\" in {lang}.'''\n",
    "\n",
    "prompt_template=PromptTemplate.from_template(template=template)\n",
    "\n",
    "prompt=prompt_template.format(algo='A* Search', lang='Turkish')\n",
    "prompt"
   ]
  },
  {
   "cell_type": "code",
   "execution_count": 36,
   "id": "0bda2f88-6699-40dc-8fa9-087cb6e00049",
   "metadata": {},
   "outputs": [
    {
     "name": "stdout",
     "output_type": "stream",
     "text": [
      "A* Arama algoritması, bir graf içindeki en kısa yolun bulunmasında kullanılan bir arama algoritmasıdır. Bu algoritma, genişlik öncelikli arama ve en iyi ilk arama algoritmalarının bir kombinasyonunu kullanarak en etkili yolun bulunmasını sağlar. A* Arama algoritması, düşük maliyetli ve yüksek verimlilik sağlayarak birçok uygulamada tercih edilen bir algoritma türüdür.\n"
     ]
    }
   ],
   "source": [
    "llm_prompt=ChatOpenAI(model_name='gpt-3.5-turbo', temperature=0)\n",
    "output=llm.invoke(prompt)\n",
    "print(output.content)"
   ]
  },
  {
   "cell_type": "markdown",
   "id": "a83f57d6-a99a-4e4e-9052-49755b8a5f98",
   "metadata": {},
   "source": [
    "# Chat Prompt Templates"
   ]
  },
  {
   "cell_type": "markdown",
   "id": "2175bb2b-7864-42b3-9e79-7926a980786d",
   "metadata": {},
   "source": [
    "* Chat Promt Templates are specifically designed for tasks that involve engaging in conversations.\n",
    "\n",
    "* The chat completions API consists of a list of messages.\n",
    "\n",
    "* Human Message prompt template is used to create dynamic prompts from the user's text.\n",
    "\n",
    "* System message is used to format the system message."
   ]
  },
  {
   "cell_type": "code",
   "execution_count": 10,
   "id": "db526fab-a808-4b7d-bacb-574b33307413",
   "metadata": {},
   "outputs": [],
   "source": [
    "from langchain.prompts import ChatPromptTemplate, HumanMessagePromptTemplate\n",
    "from langchain_core.messages import SystemMessage"
   ]
  },
  {
   "cell_type": "code",
   "execution_count": 11,
   "id": "b181149f-bab1-4c8b-b1f7-fe31fb282556",
   "metadata": {},
   "outputs": [
    {
     "name": "stdout",
     "output_type": "stream",
     "text": [
      "[SystemMessage(content='You respond only in the JSON format.'), HumanMessage(content='Top 10 countries in Europe by population.')]\n"
     ]
    }
   ],
   "source": [
    "chat_temlate=ChatPromptTemplate.from_messages(\n",
    "    [\n",
    "    SystemMessage(content=\"You respond only in the JSON format.\"),\n",
    "    HumanMessagePromptTemplate.from_template(\"Top {n} countries in {area} by population.\")\n",
    "    ]\n",
    ")\n",
    "\n",
    "messages = chat_temlate.format_messages(n='10', area='Europe')\n",
    "print(messages)"
   ]
  },
  {
   "cell_type": "code",
   "execution_count": 12,
   "id": "e77fa5f4-c1ea-4ab3-834f-b91f1bce783f",
   "metadata": {},
   "outputs": [
    {
     "name": "stdout",
     "output_type": "stream",
     "text": [
      "{\n",
      "    \"countries\": [\n",
      "        {\"name\": \"Germany\", \"population\": 83783942},\n",
      "        {\"name\": \"France\", \"population\": 65273511},\n",
      "        {\"name\": \"United Kingdom\", \"population\": 67886011},\n",
      "        {\"name\": \"Italy\", \"population\": 60461826},\n",
      "        {\"name\": \"Spain\", \"population\": 46754778},\n",
      "        {\"name\": \"Ukraine\", \"population\": 43733762},\n",
      "        {\"name\": \"Poland\", \"population\": 37887768},\n",
      "        {\"name\": \"Romania\", \"population\": 19237682},\n",
      "        {\"name\": \"Netherlands\", \"population\": 17134872},\n",
      "        {\"name\": \"Belgium\", \"population\": 11589623}\n",
      "    ]\n",
      "}\n"
     ]
    }
   ],
   "source": [
    "from langchain_openai import ChatOpenAI\n",
    "\n",
    "llm = ChatOpenAI()\n",
    "output= llm.invoke(messages)\n",
    "print(output.content)"
   ]
  },
  {
   "cell_type": "markdown",
   "id": "729db51c-4b5f-4f81-a866-7ce4ab8a4dcf",
   "metadata": {},
   "source": [
    "* As we can see, the respond is in JSON format according to the instructions that are defined.\n",
    "* Some benefits of using prompt templates include reusability, scalability and accuracy."
   ]
  },
  {
   "cell_type": "markdown",
   "id": "6ad91236-973e-4dc4-b00a-7324b5b0bb18",
   "metadata": {},
   "source": [
    "# Simple Chain"
   ]
  },
  {
   "cell_type": "markdown",
   "id": "5cfb0d78-100e-4a93-bb02-f05e6702a43c",
   "metadata": {},
   "source": [
    "* LLMs can be used for a variety of tasks, but they are often limited in what they can do on their own. For simple tasks or applications, you can use LLMs in isolation. For more complex tasks, it is often necessary to chain or combine different components.\n",
    "* Chains in LangChain are like a series of steps or actions. Imagine it as a sequence of calls where each step can involve talking to a language model, using a tool or preparing data.\n",
    "* Chains allow us to combine multiple components together to solve a specific task and build an entire LLM application.\n",
    "* For example, imagine an answering questions app with retrieval and knowledge base. This app is made of chains, and these chains efficiently answer natural language questions by retrieving relevant documents from a knowledge base and leveraging an LLM to generate comprehensive and informative responses.\n",
    "* LangChain provides a standard interface for chains, as well as some common implementations of chains to make it easy to create and use chains."
   ]
  },
  {
   "cell_type": "code",
   "execution_count": 13,
   "id": "3d605b84-bdfc-4666-b7c0-13624bc649cc",
   "metadata": {},
   "outputs": [],
   "source": [
    "from langchain_openai import ChatOpenAI\n",
    "from langchain import PromptTemplate\n",
    "from langchain.chains import LLMChain"
   ]
  },
  {
   "cell_type": "code",
   "execution_count": 15,
   "id": "0c8b4803-1837-4637-a62d-6505140b5c53",
   "metadata": {},
   "outputs": [],
   "source": [
    "llm = ChatOpenAI()\n",
    "\n",
    "template ='''You are a composer.\n",
    "Write a few sentences about the following music \"{music}\" in {lang}.'''\n",
    "\n",
    "prompt_template=PromptTemplate.from_template(template=template)\n",
    "\n",
    "chain =LLMChain(\n",
    "    llm=llm,\n",
    "    prompt=prompt_template\n",
    ")\n",
    "output= chain.invoke({'music':'Dyers Eve', 'lang':'Turkish'})"
   ]
  },
  {
   "cell_type": "code",
   "execution_count": 16,
   "id": "cf4647d4-0eb1-46cd-8f38-c6205f89b22d",
   "metadata": {},
   "outputs": [
    {
     "name": "stdout",
     "output_type": "stream",
     "text": [
      "{'music': 'Dyers Eve', 'lang': 'Turkish', 'text': '\"Dyers Eve\", Metallica\\'nın ünlü bir şarkısıdır. Şarkı, hızlı tempolu gitar riffleri ve etkileyici vokalleriyle bilinir. Şarkının sözleri, gençlik isyanını ve aile ilişkilerini ele alır ve dinleyicilere güçlü bir mesaj verir. \"Dyers Eve\", Metal müziğin enerjisini ve tutkusunu mükemmel bir şekilde yansıtan etkileyici bir parçadır.'}\n"
     ]
    }
   ],
   "source": [
    "print(output)"
   ]
  },
  {
   "cell_type": "code",
   "execution_count": 18,
   "id": "a0fac547-bf25-43df-af66-4aa192285fa4",
   "metadata": {},
   "outputs": [
    {
     "name": "stdin",
     "output_type": "stream",
     "text": [
      "Enter country:  turkey\n"
     ]
    },
    {
     "name": "stdout",
     "output_type": "stream",
     "text": [
      "\n",
      "\n",
      "\u001b[1m> Entering new LLMChain chain...\u001b[0m\n",
      "Prompt after formatting:\n",
      "\u001b[32;1m\u001b[1;3mWhat is the capital of turkey? List the top 3 places to visit in that city. Use bullet points\u001b[0m\n",
      "\n",
      "\u001b[1m> Finished chain.\u001b[0m\n",
      "The capital of Turkey is Ankara.\n",
      "\n",
      "Top 3 places to visit in Ankara:\n",
      "- Anitkabir (Mausoleum of Ataturk)\n",
      "- Ankara Citadel\n",
      "- Museum of Anatolian Civilizations\n"
     ]
    }
   ],
   "source": [
    "template= 'What is the capital of {country}? List the top 3 places to visit in that city. Use bullet points'\n",
    "\n",
    "prompt_template=PromptTemplate.from_template(template=template)\n",
    "\n",
    "chain =LLMChain(\n",
    "    llm=llm,\n",
    "    prompt=prompt_template,\n",
    "    verbose=True\n",
    ")\n",
    "\n",
    "country=input(\"Enter country: \")\n",
    "output= chain.invoke(country)\n",
    "print(output['text'])"
   ]
  },
  {
   "cell_type": "markdown",
   "id": "42b3b2ec-170e-4643-b73d-cfb8374b36ec",
   "metadata": {},
   "source": [
    "# Sequential Chains"
   ]
  },
  {
   "cell_type": "markdown",
   "id": "0e077416-4f7e-470e-994e-980d41be264a",
   "metadata": {},
   "source": [
    "* For more complex tasks, sequential chains are more suitable.\n",
    "* With sequential chains, you can make a series of calls to one or more LLMs. You can take the output from one chain and use it as the input to another chain.\n",
    "* There are two types of this.\n",
    "1) SimpleSequentialChain represents a series of chains, where each individual chain has a single input and a single output, and the output of one step is used as input to the next. For example, you could create a simple sequential chain that first asks a question to an LLM, then takes the answer from the first LLM and uses it as input to a second LLM to get a morel detailed answer. "
   ]
  },
  {
   "cell_type": "code",
   "execution_count": 2,
   "id": "737e7aaa-61d4-408d-8a66-d2c6e26c78e7",
   "metadata": {},
   "outputs": [],
   "source": [
    "from langchain_openai import ChatOpenAI\n",
    "from langchain import PromptTemplate\n",
    "from langchain.chains import LLMChain, SimpleSequentialChain"
   ]
  },
  {
   "cell_type": "code",
   "execution_count": 6,
   "id": "3c28298e-c14c-4c16-ae19-944f8e530757",
   "metadata": {},
   "outputs": [
    {
     "name": "stdout",
     "output_type": "stream",
     "text": [
      "\n",
      "\n",
      "\u001b[1m> Entering new SimpleSequentialChain chain...\u001b[0m\n",
      "\u001b[36;1m\u001b[1;3mLinear regresyon, iki değişken arasındaki ilişkiyi modellemek için kullanılan istatistiksel bir tekniktir. Bu ilişki genellikle bağımlı değişken ile bir veya daha fazla bağımsız değişken arasındaki doğrusal ilişkiyi ifade eder.\n",
      "\n",
      "Linear regresyon, en küçük kareler yöntemi kullanılarak gerçek verilerle uyumlu bir doğru veya düzlem oluşturur. Bu doğru veya düzlem, veriler arasındaki ilişkiyi en iyi şekilde temsil etmeye çalışır.\n",
      "\n",
      "Linear regresyon genellikle tahmin yapmak veya değişkenler arasındaki ilişkiyi anlamak amacıyla kullanılır. Örneğin, bir bağımsız değişkenin diğer değişken üzerindeki etkisini anlamak veya bir değişkenin gelecekteki değerlerini tahmin etmek için kullanılabilir.\n",
      "\n",
      "Linear regresyonun temel amacı, veri setindeki değişkenler arasındaki ilişkiyi modellemek ve bu ilişkiyi kullanarak gelecekteki değerleri tahmin etmektir. Bu nedenle, istatistiksel analizde sıkça kullanılan bir tekniktir.\u001b[0m\n",
      "\u001b[33;1m\u001b[1;3mLinear regresyon kullanılarak yapılan tahminler ve analizler, çok çeşitli alanlarda farklı amaçlar için kullanılabilir. İşte linear regresyonun uygulamalarına ilişkin bazı örnekler:\n",
      "\n",
      "### 1. Satış Tahmini\n",
      "Bir şirket, reklam harcamalarına bağlı olarak gelecek dönem satış miktarlarını tahmin etmek isteyebilir. Burada bağımsız değişken reklam harcamaları (X), bağımlı değişken ise satış miktarıdır (Y). Linear regresyon modeli, geçmiş veriler üzerinden reklam harcamalarının satış miktarlarına etkisini modelleyerek, farklı reklam bütçeleri için satış tahminleri yapabilir.\n",
      "\n",
      "### 2. Konut Fiyatları Analizi\n",
      "Emlak sektöründe, bir evin fiyatını etkileyebilecek çeşitli faktörler (örneğin, evin büyüklüğü, yatak odası sayısı, bölgenin kalitesi) linear regresyon kullanılarak analiz edilebilir. Bu faktörler bağımsız değişkenler olarak modellenirken, evin satış fiyatı bağımlı değişken olarak ele alınır. Linear regresyon yardımıyla, ev özelliklerindeki değişikliğin fiyat üzerindeki etkisi anlaşılır ve belirli özelliklere sahip evler için fiyat tahminleri yapılabilir.\n",
      "\n",
      "### 3. Akademik Performans\n",
      "Eğitim alanında, öğrencilerin akademik performanslarını etkileyen faktörler (örneğin, çalışma saatleri, katıldıkları derslerin sayısı) üzerinde linear regresyon analizi yapılabilir. Öğrenci performansı bağımlı değişken, etkileyen faktörler ise bağımsız değişkenler olur. Bu analizler, öğrenci başarısını artırmaya yönelik etkili stratejilerin belirlenmesinde kullanılabilir.\n",
      "\n",
      "### 4. Sağlık Sektöründe Risk Değerlendirme\n",
      "Sağlık alanında, hastaların belirli hastalıklara yakalanma riskini değerlendirmede linear regresyon kullanılabilir. Örneğin, kalp hastalığı riskini etkileyebilecek faktörler (örneğin, kolestrol seviyesi, yaş, sigara kullanım durumu) linear bir modelle incelenerek, hastaların kalp hastalığı geliştirme riski tahmin edilebilir.\n",
      "\n",
      "### 5. Üretim Maliyetleri\n",
      "Üretim sektöründe, bir ürünün maliyetini etkileyen değişkenler (hammadde maliyeti, işçilik, üretim süresi) analiz edilerek optimal üretim koşulları belirlenebilir. Maliyet bağımlı değişkenken, bu faktörler bağımsız değişkenler olarak modele girer. Linear regresyon modeli, maliyetleri azaltıcı ve verimliliği artırıcı önlemlerin alınmasında kritik bilgiler sunar.\n",
      "\n",
      "Bu uygulamalarda, linear regresyon modelinin başarısı, veri setinin doğası ve model kurarken seçilen değişkenlerle yakından ilgilidir. Değişkenler arası güçlü bir doğrusal ilişki varsa ve veri doğru bir şekilde temizlenip hazırlandıysa, linear regresyon güçlü ve doğru tahminler sağlayabilir.\u001b[0m\n",
      "\n",
      "\u001b[1m> Finished chain.\u001b[0m\n"
     ]
    }
   ],
   "source": [
    "llm1=ChatOpenAI(model_name='gpt-3.5-turbo', temperature=0.5)\n",
    "prompt_template1=PromptTemplate.from_template(\n",
    "    template = ' Linear regrasyonu anlat {regrasyon}.'\n",
    ")\n",
    "\n",
    "chain1=LLMChain(\n",
    "    llm=llm1,\n",
    "    prompt=prompt_template1\n",
    ")\n",
    "\n",
    "llm2=ChatOpenAI(model_name='gpt-4-turbo-preview', temperature=1.2)\n",
    "prompt_template2=PromptTemplate.from_template(\n",
    "    template='örnekler vererek cevabı detaylandır {function}' \n",
    ")\n",
    "chain2=LLMChain(\n",
    "    llm=llm2,\n",
    "    prompt=prompt_template2\n",
    ")\n",
    "\n",
    "#The second chain takes the output, whihc is a function from the first chain as input.\n",
    "\n",
    "overall_chain=SimpleSequentialChain(chains=[chain1,chain2], verbose=True)\n",
    "\n",
    "output=overall_chain.invoke('Linear Regrasyon')"
   ]
  },
  {
   "cell_type": "markdown",
   "id": "83ade71b-2f5e-464d-a192-ee7a6afa0e25",
   "metadata": {},
   "source": [
    "# LangChain Agents"
   ]
  },
  {
   "cell_type": "markdown",
   "id": "6b7cab0e-3b3e-4587-ae1e-470f953eb956",
   "metadata": {},
   "source": [
    "* LLMs are incredibly powerful, but they lack the ability to perform certain tasks that even the simplest application can do easily. For example, LLMs struggle with logic, calculation or communicating with other external components. For example, when we ask the calculation of (5.1 ** 7) to GPT4, it probably gives wrong answer. This is because GPT four is using an approximation while Python is using the exact mathematical formula. So, LLMs are powerful tool, but they are not perfect. The agent concept come out here. "
   ]
  },
  {
   "cell_type": "code",
   "execution_count": 21,
   "id": "67b7edd0-8790-4e09-aa48-666d8116a434",
   "metadata": {},
   "outputs": [
    {
     "name": "stdout",
     "output_type": "stream",
     "text": [
      "Note: you may need to restart the kernel to use updated packages.\n"
     ]
    },
    {
     "name": "stderr",
     "output_type": "stream",
     "text": [
      "\n",
      "[notice] A new release of pip is available: 24.0 -> 24.1.2\n",
      "[notice] To update, run: python.exe -m pip install --upgrade pip\n"
     ]
    }
   ],
   "source": [
    "pip install -q langchain_experimental"
   ]
  },
  {
   "cell_type": "code",
   "execution_count": 24,
   "id": "60ba2325-c6a7-4e9b-8e8c-60ac5c448c68",
   "metadata": {},
   "outputs": [
    {
     "data": {
      "text/plain": [
       "'[13, 26, 39, 52, 65, 78, 91]\\n'"
      ]
     },
     "execution_count": 24,
     "metadata": {},
     "output_type": "execute_result"
    }
   ],
   "source": [
    "from langchain_experimental.utilities import PythonREPL\n",
    "\n",
    "# PythonREPL provides a way to execute Python code\n",
    "python_repl=PythonREPL()\n",
    "# Now, we can execute a python expression within the Repl environment\n",
    "\n",
    "python_repl.run('print([n for n in range(1, 100) if n % 13==0])')\n",
    "# there is no LLM here right now"
   ]
  },
  {
   "cell_type": "code",
   "execution_count": 25,
   "id": "95065ac1-289c-4301-abbe-4b277bf93d18",
   "metadata": {},
   "outputs": [],
   "source": [
    "from langchain_experimental.agents.agent_toolkits import create_python_agent\n",
    "from langchain_experimental.tools.python.tool import PythonREPLTool\n",
    "from langchain_openai import ChatOpenAI"
   ]
  },
  {
   "cell_type": "code",
   "execution_count": 28,
   "id": "58571af6-aeb2-4c8a-8124-a42159e782ce",
   "metadata": {},
   "outputs": [
    {
     "name": "stdout",
     "output_type": "stream",
     "text": [
      "\n",
      "\n",
      "\u001b[1m> Entering new AgentExecutor chain...\u001b[0m\n",
      "\u001b[32;1m\u001b[1;3mTo solve this, I will first calculate the factorial of 12 using the `math.factorial` function. Then, I will calculate the square root of that result using `math.sqrt`. Finally, I will format the result to display it with 4 decimal points using the `format` function. Let's start by importing the `math` module and calculating the factorial of 12.\n",
      "\n",
      "Action: Python_REPL\n",
      "Action Input: import math\n",
      "print(math.factorial(12))\u001b[0m\n",
      "Observation: \u001b[36;1m\u001b[1;3m479001600\n",
      "\u001b[0m\n",
      "Thought:\u001b[32;1m\u001b[1;3mNow that I have the factorial of 12, I will calculate the square root of this number using `math.sqrt`.\n",
      "\n",
      "Action: Python_REPL\n",
      "Action Input: print(math.sqrt(479001600))\u001b[0m\n",
      "Observation: \u001b[36;1m\u001b[1;3m21886.105181141756\n",
      "\u001b[0m\n",
      "Thought:\u001b[32;1m\u001b[1;3mI have the square root of the factorial of 12. Now, I need to format this number to display it with 4 decimal points.\n",
      "\n",
      "Action: Python_REPL\n",
      "Action Input: print(format(21886.105181141756, '.4f'))\u001b[0m\n",
      "Observation: \u001b[36;1m\u001b[1;3m21886.1052\n",
      "\u001b[0m\n",
      "Thought:\u001b[32;1m\u001b[1;3mI now know the final answer\n",
      "Final Answer: 21886.1052\u001b[0m\n",
      "\n",
      "\u001b[1m> Finished chain.\u001b[0m\n"
     ]
    },
    {
     "data": {
      "text/plain": [
       "{'input': 'calculate the square root of the factorial of 12 and display it with 4 decimal points',\n",
       " 'output': '21886.1052'}"
      ]
     },
     "execution_count": 28,
     "metadata": {},
     "output_type": "execute_result"
    }
   ],
   "source": [
    "llm=ChatOpenAI(model_name='gpt-4-turbo-preview', temperature=0)\n",
    "\n",
    "agent_executer= create_python_agent(\n",
    "    llm=llm,\n",
    "    tool=PythonREPLTool(),\n",
    "    verbose=True\n",
    ")\n",
    "# tool are essentially functions that agents can use to interact with the outside world. These can range from general utilities, such as a math calculator or a search function to other chains or even other agents.\n",
    "\n",
    "agent_executer.invoke('calculate the square root of the factorial of 12 and display it with 4 decimal points')"
   ]
  },
  {
   "cell_type": "code",
   "execution_count": 31,
   "id": "500ed961-0e18-4a29-a938-99c39f05b938",
   "metadata": {},
   "outputs": [
    {
     "data": {
      "text/plain": [
       "21886.105181141756"
      ]
     },
     "execution_count": 31,
     "metadata": {},
     "output_type": "execute_result"
    }
   ],
   "source": [
    "import math\n",
    "math.sqrt(math.factorial(12))"
   ]
  },
  {
   "cell_type": "markdown",
   "id": "b8111d21-e281-454c-a66e-d0d8ff53d559",
   "metadata": {},
   "source": [
    "LLM first makes a plan to solve the problem, then an observation and finally a thought"
   ]
  },
  {
   "cell_type": "markdown",
   "id": "6216a1a5-2028-4521-a32f-90261fdcaf64",
   "metadata": {},
   "source": [
    "# LangChain Tools"
   ]
  },
  {
   "cell_type": "markdown",
   "id": "e4165191-9ac8-438d-9a2b-6a975ca51caf",
   "metadata": {},
   "source": [
    "* LangChain tools are like specialized apps for our LLM. They are tiny code modules that allow it to access information and services.\n",
    "* These tools connect your LLM to search engines, databases, APIs, and more, expanding its knowledge and capabilities.\n",
    "* We can build smarter, more versatile language models."
   ]
  },
  {
   "cell_type": "code",
   "execution_count": 2,
   "id": "583037f7-9f5a-45e8-8b2a-93519145e374",
   "metadata": {},
   "outputs": [
    {
     "name": "stdout",
     "output_type": "stream",
     "text": [
      "Note: you may need to restart the kernel to use updated packages.\n"
     ]
    },
    {
     "name": "stderr",
     "output_type": "stream",
     "text": [
      "\n",
      "[notice] A new release of pip is available: 24.0 -> 24.1.2\n",
      "[notice] To update, run: python.exe -m pip install --upgrade pip\n"
     ]
    }
   ],
   "source": [
    "pip install -q duckduckgo-search"
   ]
  },
  {
   "cell_type": "code",
   "execution_count": 3,
   "id": "c1a4cda2-f532-4771-989d-613a60be672c",
   "metadata": {},
   "outputs": [
    {
     "name": "stdout",
     "output_type": "stream",
     "text": [
      "Freddie Mercury (born September 5, 1946, Stone Town, Zanzibar [now in Tanzania]—died November 24, 1991, Kensington, London, England) was a British rock singer and songwriter whose flamboyant showmanship and powerfully agile vocals, most famously for the band Queen, made him one of rock's most dynamic front men.. Bulsara was born to Parsi parents who had emigrated from India to Zanzibar ... Freddie Mercury was born Farrokh Bulsara in Stone Town, Zanzibar (now Tanzania) on September 5, 1946. Learn more about his career, family, relationships, death and solo songs in this comprehensive article. Freddie Mercury was Britain's first Indian rock star. This fact and the nature of his sexuality were the two areas of his short life about which he would be intentionally obscure. Although he was born on the East African island of Zanzibar on September 5, 1946, his parents were both Indian; they were Parsees from Gujarat. Learn how Freddie Mercury, born Farrokh Bulsara in Stone Town, Zanzibar, became a global superstar and one of the greatest rock icons of all time. Read about his challenges, achievements, and legacy in this article. Freddie Mercury was born on September 5, 1946. Freddie Mercury, whose real name was Farrokh Bulsara, was born in Zanzibar, Tanzania. He later became the lead vocalist of the legendary rock band Queen. Freddie Mercury had a four-octave vocal range.\n"
     ]
    }
   ],
   "source": [
    "from langchain.tools import DuckDuckGoSearchRun\n",
    "\n",
    "search= DuckDuckGoSearchRun()\n",
    "\n",
    "output =search.invoke(\"where was Freddie Mercury born\")\n",
    "print(output)"
   ]
  },
  {
   "cell_type": "code",
   "execution_count": 4,
   "id": "d32759ca-9354-46c5-b6f6-078a2c674e31",
   "metadata": {},
   "outputs": [
    {
     "name": "stdout",
     "output_type": "stream",
     "text": [
      "[snippet: Best of 2023: James Hetfield hasn't done many interviews for Metallica's new 72 Seasons album, and he doesn't really need to; ... This is the first electric guitar Hetfield used in Metallica; the Electra V that Hetfield bought in 1980 for $200 and was used on Kill 'Em All., title: James Hetfield on Metallica's new creative era: \"I don't want to sit ..., link: https://www.musicradar.com/news/james-hetfield-on-metallica-s-new-creative-era-i-don-t-want-to-sit-there-and-create-the-songs-with-lars-anymore-i-want-everyone-to-be-a-part-of-it-and-be-in-it], [snippet: Metallica singer/guitarist James Hetfield has revealed that he's been writing new music during the heavy metal superstars' downtime. The 60-year-old, who co-founded Metallica with drummer Lars Ulrich in 1981, also revealed that he's been playing guitar every day since the end of the band's most recent tour in December 2023., title: Metallica's James Hetfield has been \"writing lots of music ... - Louder, link: https://www.loudersound.com/news/metallica-james-hetfield-writing-new-music-2024], [snippet: Tubi Films has released the first photos for its upcoming dark western thriller \"The Thicket\", which includes a role by METALLICA's James Hetfield. Check out the pictures below. Based on Joe R ..., title: Here Is The First Look At METALLICA's JAMES HETFIELD In Upcoming Dark ..., link: https://blabbermouth.net/news/here-is-the-first-look-at-metallicas-james-hetfield-in-upcoming-dark-western-thriller-the-thicket], [snippet: On the latest episode of The Metallica Report podcast, James Hetfield and Robert Trujillo talked about some highlights of the M72 world tour as well as their goals for 2024.. Trujillo mentions ..., title: Metallica's James Hetfield Has a Message + Goals for 2024 - Loudwire, link: https://loudwire.com/metallica-james-hetfield-message-goals-2024/]\n"
     ]
    }
   ],
   "source": [
    "from langchain.tools import DuckDuckGoSearchResults\n",
    "\n",
    "search = DuckDuckGoSearchResults()\n",
    "output= search.run(\"Metallica and James Hetfield\")\n",
    "print(output)"
   ]
  },
  {
   "cell_type": "markdown",
   "id": "df0982b9-55cc-4833-bb38-91ab1fda378a",
   "metadata": {},
   "source": [
    "# ReAct-Reasoning and Acting"
   ]
  },
  {
   "cell_type": "markdown",
   "id": "9dad9e27-c930-42d4-933b-2602abdb795b",
   "metadata": {},
   "source": [
    "* ReAct is a new approach that combines reasoning(chain-of-thoughts prompting) and acting capabilities of LLMs\n",
    "* With ReAct LLMs generate reasoning traces and task-specific actions in  an interleaved manner. This means that the model can reason about a task and then take actions in the real world to gather more information or complete the task.\n",
    "* The combination of reasoning and acting allows react to overcome some of the limitations of existing LLMs, such as hallucinations and error propagation.\n",
    "* LangChain agents are one of the key components that make long chain so useful. They take langchain tools, whihc we have looked at in some of the other videos and chains, and combine.\n",
    "* LangChain hub is a hub for sharing and discovering resources related to LangChain. It stores and allows access to pre-trained prompts, chains and agents that can be used in LangChain project"
   ]
  },
  {
   "cell_type": "code",
   "execution_count": 17,
   "id": "c9c53cd0-e6e3-4be0-ac69-5a3f3e121c9d",
   "metadata": {},
   "outputs": [
    {
     "name": "stdout",
     "output_type": "stream",
     "text": [
      "Note: you may need to restart the kernel to use updated packages.\n"
     ]
    },
    {
     "name": "stderr",
     "output_type": "stream",
     "text": [
      "\n",
      "[notice] A new release of pip is available: 24.0 -> 24.1.2\n",
      "[notice] To update, run: python.exe -m pip install --upgrade pip\n"
     ]
    }
   ],
   "source": [
    "pip install langchainhub -q"
   ]
  },
  {
   "cell_type": "code",
   "execution_count": 18,
   "id": "59aafbd1-f3da-4d10-8755-19d895c3a9d2",
   "metadata": {},
   "outputs": [
    {
     "name": "stdout",
     "output_type": "stream",
     "text": [
      "Note: you may need to restart the kernel to use updated packages.\n"
     ]
    },
    {
     "name": "stderr",
     "output_type": "stream",
     "text": [
      "\n",
      "[notice] A new release of pip is available: 24.0 -> 24.1.2\n",
      "[notice] To update, run: python.exe -m pip install --upgrade pip\n"
     ]
    }
   ],
   "source": [
    "pip install -q wikipedia "
   ]
  },
  {
   "cell_type": "code",
   "execution_count": 7,
   "id": "23372491-b506-45ae-aa63-91432dfa8391",
   "metadata": {},
   "outputs": [],
   "source": [
    "from langchain.prompts import PromptTemplate\n",
    "from langchain import hub\n",
    "from langchain.agents import Tool, AgentExecutor, initialize_agent, create_react_agent\n",
    "from langchain.tools import DuckDuckGoSearchRun, WikipediaQueryRun\n",
    "from langchain.utilities import WikipediaAPIWrapper\n",
    "from langchain_experimental.tools.python.tool import PythonAstREPLTool\n",
    "from langchain_openai import ChatOpenAI"
   ]
  },
  {
   "cell_type": "code",
   "execution_count": 20,
   "id": "1f5cc194-604c-4810-a067-a0b38a90fd9a",
   "metadata": {},
   "outputs": [],
   "source": [
    "# create LLM\n",
    "llm= ChatOpenAI(model_name=\"gpt-4-turbo-preview\", temperature=0)\n",
    "\n",
    "#prepare the prompt template for asking question. This template will structure the way the questions are presented to the agent.\n",
    "template='''\n",
    "Answer the following questions as best you can.\n",
    "Questions: {q}\n",
    "'''\n",
    "prompt_template=PromptTemplate.from_template(template)\n",
    "prompt=hub.pull(\"hwchase17/react\")#this is an object of type prompt template\n",
    "#print(type(prompt))\n",
    "#print(prompt.input_variables)\n",
    "#print(prompt.template)\n",
    "\n",
    "# 1. Python REPL Toll (for executing Python code)\n",
    "\n",
    "python_repl=PythonAstREPLTool()\n",
    "python_repl_tool=Tool(\n",
    "    name='Python REPL',\n",
    "    func=python_repl.run,\n",
    "    description='Useful when you need to use Python to answer a question. You should input Python Code.'\n",
    ")\n",
    "\n",
    "# 2. Wikipedia Tool (for searching Wikipedia)\n",
    "\n",
    "api_wrapper =WikipediaAPIWrapper()\n",
    "wikipedia=WikipediaQueryRun(api_wrapper=api_wrapper)\n",
    "wikipedia_tool=Tool(\n",
    "    name='Wikipedia',\n",
    "    func=wikipedia.run,\n",
    "    description='Useful for when you need to look up a topic, country, or person on Wikipedia.'\n",
    "\n",
    ")\n",
    "\n",
    "# 3. DuckDuckGo Search Tool (for general web searches)\n",
    "search=DuckDuckGoSearchRun()\n",
    "duckduckgo_tool=Tool(\n",
    "    name='DuckDuckGo Search',\n",
    "    func=search.run,\n",
    "    description='Useful for when you need to perform an internet search to find information that another tool cannot provide'\n",
    ")\n",
    "tools=[python_repl_tool, wikipedia_tool, duckduckgo_tool]\n",
    "\n",
    "agent= create_react_agent(llm, tools, prompt)\n",
    "\n",
    "#struct agent executer to run react agent. The executor examines the input and determine the best tool to use based on the user's query.\n",
    "agent_executor= AgentExecutor(\n",
    "    agent=agent,\n",
    "    tools = tools,\n",
    "    verbose=True,\n",
    "    handle_parsing_errors=True,# controls how the agent executor handles potential parsing error that might occur during the execution of tools, or the agent itself. \n",
    "    max_iterations=10 #using this argument prevents agents from running indefinitely, which could lead to performance issues, resource exhaustion, or getting stuck in loops.\n",
    "    \n",
    ")\n"
   ]
  },
  {
   "cell_type": "code",
   "execution_count": 21,
   "id": "fa6d365f-e721-4234-a9ac-7d3edfdcdb5f",
   "metadata": {},
   "outputs": [
    {
     "name": "stdout",
     "output_type": "stream",
     "text": [
      "\n",
      "\n",
      "\u001b[1m> Entering new AgentExecutor chain...\u001b[0m\n",
      "\u001b[32;1m\u001b[1;3mTo generate the first 20 numbers in the Fibonacci series, I can write a simple Python program that iterates 20 times, each time calculating the next number in the series by summing up the two preceding numbers.\n",
      "\n",
      "Action: Python REPL\n",
      "\n",
      "Action Input:\n",
      "```python\n",
      "def fibonacci(n):\n",
      "    fib_series = [0, 1]\n",
      "    for i in range(2, n):\n",
      "        next_fib = fib_series[-1] + fib_series[-2]\n",
      "        fib_series.append(next_fib)\n",
      "    return fib_series[:n]\n",
      "\n",
      "fibonacci(20)\n",
      "```\n",
      "\u001b[0m\u001b[36;1m\u001b[1;3m[0, 1, 1, 2, 3, 5, 8, 13, 21, 34, 55, 89, 144, 233, 377, 610, 987, 1597, 2584, 4181]\u001b[0m\u001b[32;1m\u001b[1;3mI now know the first 20 numbers in the Fibonacci series.\n",
      "\n",
      "Final Answer: The first 20 numbers in the Fibonacci series are: 0, 1, 1, 2, 3, 5, 8, 13, 21, 34, 55, 89, 144, 233, 377, 610, 987, 1597, 2584, 4181.\u001b[0m\n",
      "\n",
      "\u001b[1m> Finished chain.\u001b[0m\n"
     ]
    }
   ],
   "source": [
    "question='Generate the first 20 numbers in the Fibonacci series'\n",
    "output= agent_executor.invoke({\n",
    "    'input':prompt_template.format(q=question)\n",
    "})"
   ]
  },
  {
   "cell_type": "code",
   "execution_count": 22,
   "id": "96a34380-4127-4850-972f-aeffe419b782",
   "metadata": {},
   "outputs": [
    {
     "name": "stdout",
     "output_type": "stream",
     "text": [
      "\n",
      "Answer the following questions as best you can.\n",
      "Questions: Generate the first 20 numbers in the Fibonacci series\n",
      "\n"
     ]
    }
   ],
   "source": [
    "print(output['input'])"
   ]
  },
  {
   "cell_type": "code",
   "execution_count": 23,
   "id": "74c3f2f0-f28f-45e0-a7ed-bd42c59f9da4",
   "metadata": {},
   "outputs": [
    {
     "data": {
      "text/plain": [
       "'The first 20 numbers in the Fibonacci series are: 0, 1, 1, 2, 3, 5, 8, 13, 21, 34, 55, 89, 144, 233, 377, 610, 987, 1597, 2584, 4181.'"
      ]
     },
     "execution_count": 23,
     "metadata": {},
     "output_type": "execute_result"
    }
   ],
   "source": [
    "output['output']"
   ]
  },
  {
   "cell_type": "code",
   "execution_count": 25,
   "id": "ee64428c-345b-4a30-b46d-404f97765f47",
   "metadata": {},
   "outputs": [
    {
     "name": "stdout",
     "output_type": "stream",
     "text": [
      "\n",
      "\n",
      "\u001b[1m> Entering new AgentExecutor chain...\u001b[0m\n",
      "\u001b[32;1m\u001b[1;3mI need to find the current Prime Minister of the United Kingdom as of my last update.\n",
      "\n",
      "Action: Wikipedia\n",
      "Action Input: Prime Minister of the United Kingdom\u001b[0m\u001b[33;1m\u001b[1;3mPage: Prime Minister of the United Kingdom\n",
      "Summary: The prime minister of the United Kingdom is the head of government of the United Kingdom. The prime minister advises the sovereign on the exercise of much of the royal prerogative, chairs the Cabinet, and selects its ministers. As modern prime ministers hold office by virtue of their ability to command the confidence of the House of Commons, they sit as members of Parliament.\n",
      "The office of prime minister is not established by any statute or constitutional document, but exists only by long-established convention, whereby the monarch appoints as prime minister the person most likely to command the confidence of the House of Commons. In practice, this is the leader of the political party that holds the largest number of seats in the Commons. The prime minister is ex officio also First Lord of the Treasury (prior to 1905 also the official title of the position), Minister for the Civil Service, the minister responsible for national security,: p.22  and Minister for the Union. The prime minister's official residence and office, by virtue of being the First Lord of the Treasury, is 10 Downing Street in London.\n",
      "58 people (55 men and 3 women) have served as prime minister, the first of whom was Robert Walpole taking office on 3 April 1721. The longest-serving prime minister was also Walpole, who served over 20 years, and the shortest-serving was Liz Truss, who served seven weeks. The current prime minister is Keir Starmer, who succeeded Rishi Sunak on 5 July 2024, following the 2024 general election.\n",
      "\n",
      "The position of prime minister was not created; it evolved slowly and organically over three hundred years due to numerous Acts of Parliament, political developments, and accidents of history. The office is therefore best understood from a historical perspective. The origins of the position are found in constitutional changes that occurred during the Revolutionary Settlement (1688–1720) and the resulting shift of political power from the sovereign to Parliament. Although the sovereign was not stripped of their ancient prerogative powers and legally remained the head of government, politically it gradually became necessary for him or her to govern through a prime minister who could command a majority in Parliament.\n",
      "By the 1830s, the Westminster system of government (or cabinet government) had emerged; the prime minister had become primus inter pares or the first among equals in the Cabinet and the head of government in the United Kingdom, while it became increasingly seen as an affront to the constitution for the monarch to interfere directly with the business of government. The political position of prime minister was enhanced by the development of modern political parties and the introduction of mass communication. By the start of the 20th century the modern premiership had emerged; the office had become the pre-eminent position in the constitutional hierarchy in relation to the sovereign, Parliament and Cabinet.\n",
      "Before 1902, the prime minister sometimes sat in the House of Lords, provided that his government could form a majority in the Commons. However, as the power of the aristocracy waned during the 19th century the convention developed that the prime minister should always sit as a Member of Parliament in the lower house, making them answerable only to the Commons in Parliament. The prime minister's authority was further enhanced by the Parliament Act 1911, which marginalised the influence of the House of Lords in the law-making process.\n",
      "\n",
      "The prime minister is the head of the United Kingdom government. As such, the modern prime minister leads the Cabinet (the Executive). In addition, the prime minister leads a major political party and generally commands a majority in the House of Commons (the lower chamber of Parliament). The incumbent wields both significant legislative and executive powers. Under the British system, there is a unity of powers rather than separation.\n",
      "In the House\u001b[0m\u001b[32;1m\u001b[1;3mI now know the final answer.\n",
      "Final Answer: The current Prime Minister of the United Kingdom is Keir Starmer, who succeeded Rishi Sunak on 5 July 2024, following the 2024 general election.\u001b[0m\n",
      "\n",
      "\u001b[1m> Finished chain.\u001b[0m\n"
     ]
    }
   ],
   "source": [
    "question2='who is the current prime minister of the UK?'\n",
    "output= agent_executor.invoke({\n",
    "    'input':prompt_template.format(q=question2)\n",
    "})"
   ]
  },
  {
   "cell_type": "markdown",
   "id": "56802949-e498-44d7-bcbd-9119721cc8f2",
   "metadata": {},
   "source": [
    "# Vector Embeddings"
   ]
  },
  {
   "cell_type": "markdown",
   "id": "2f1c73bb-c704-4954-b537-826592ffe8e9",
   "metadata": {},
   "source": [
    "* Embeddings are the core of building LLM applications.\n",
    "* Text embeddings are numeric representations of text and are used in NLP and ML tasks. Text embeddings can be used to measure the relatedness and similarity between two pieces of text. Relatedness is a measure of how closely two pieces of text are related in meaning.\n",
    "* The distance between two embeddings or two vectors measures their relatedness which translates to the relatedness between the text concepts they represent.\n",
    "* Similar embeddings or vector represent similar concepts, which translates to the relatedness between the text concepts they represent.\n",
    "* There are two common approaches to measuring relatedness and similarity between text embeddings. These are Cosine similarity and Euclidean Distance."
   ]
  },
  {
   "cell_type": "markdown",
   "id": "a7084844-0d68-420d-af4b-5f49b102726b",
   "metadata": {},
   "source": [
    "# Vector Databases - Pinecone"
   ]
  },
  {
   "cell_type": "markdown",
   "id": "ac1e5051-8d5e-4c99-ae19-da6148d34551",
   "metadata": {},
   "source": [
    "* Vector databases are specialized database or data store specifically designed to manage such large quantities of data in numeric representation. Vector databases are a new type of database, designed to store and query unstructured data.\n",
    "* There are several vector databases such as Pinecone, Milvus, Qdrant, ChromaDB. I am going to use Pinecone.\n",
    "* Pinecone is a vector database designed for storing and querying high dimensional vectors. It provides fast and efficient semantic search over these vector embeddings."
   ]
  },
  {
   "cell_type": "code",
   "execution_count": 27,
   "id": "1ede0253-fc36-4770-bc04-5857c66d179c",
   "metadata": {},
   "outputs": [
    {
     "name": "stdout",
     "output_type": "stream",
     "text": [
      "Note: you may need to restart the kernel to use updated packages.\n"
     ]
    },
    {
     "name": "stderr",
     "output_type": "stream",
     "text": [
      "\n",
      "[notice] A new release of pip is available: 24.0 -> 24.1.2\n",
      "[notice] To update, run: python.exe -m pip install --upgrade pip\n"
     ]
    }
   ],
   "source": [
    "pip install -q pinecone-client"
   ]
  },
  {
   "cell_type": "code",
   "execution_count": 28,
   "id": "67a1cb53-fb0e-4d1b-bdc8-36bf395ad00c",
   "metadata": {},
   "outputs": [
    {
     "name": "stdout",
     "output_type": "stream",
     "text": [
      "Note: you may need to restart the kernel to use updated packages.\n"
     ]
    },
    {
     "name": "stderr",
     "output_type": "stream",
     "text": [
      "\n",
      "[notice] A new release of pip is available: 24.0 -> 24.1.2\n",
      "[notice] To update, run: python.exe -m pip install --upgrade pip\n"
     ]
    }
   ],
   "source": [
    "pip install --upgrade -q pinecone-client"
   ]
  },
  {
   "cell_type": "code",
   "execution_count": 29,
   "id": "f43c806f-0566-4a2a-8af4-4c6548a9825e",
   "metadata": {},
   "outputs": [
    {
     "name": "stdout",
     "output_type": "stream",
     "text": [
      "Name: pinecone-client\n",
      "Version: 5.0.0\n",
      "Summary: Pinecone client and SDK\n",
      "Home-page: https://www.pinecone.io\n",
      "Author: Pinecone Systems, Inc.\n",
      "Author-email: support@pinecone.io\n",
      "License: Apache-2.0\n",
      "Location: C:\\Users\\DELL\\AppData\\Local\\Programs\\Python\\Python312\\Lib\\site-packages\n",
      "Requires: certifi, pinecone-plugin-inference, pinecone-plugin-interface, tqdm, typing-extensions, urllib3\n",
      "Required-by: pinecone-plugin-inference\n",
      "Note: you may need to restart the kernel to use updated packages.\n"
     ]
    }
   ],
   "source": [
    "pip show pinecone-client"
   ]
  },
  {
   "cell_type": "code",
   "execution_count": 10,
   "id": "8ed4215d-3494-419f-84df-5128023d041b",
   "metadata": {},
   "outputs": [
    {
     "data": {
      "text/plain": [
       "True"
      ]
     },
     "execution_count": 10,
     "metadata": {},
     "output_type": "execute_result"
    }
   ],
   "source": [
    "import os\n",
    "from dotenv import find_dotenv, load_dotenv\n",
    "load_dotenv(find_dotenv(\"Pinecone.env\"), override=True)"
   ]
  },
  {
   "cell_type": "code",
   "execution_count": 4,
   "id": "9b88a93e-2f24-4f19-a5eb-3c8d278124fe",
   "metadata": {},
   "outputs": [
    {
     "data": {
      "text/plain": [
       "{'indexes': [{'deletion_protection': 'disabled',\n",
       "              'dimension': 1536,\n",
       "              'host': 'churchill-2hcrrkb.svc.gcp-starter.pinecone.io',\n",
       "              'metric': 'cosine',\n",
       "              'name': 'churchill',\n",
       "              'spec': {'pod': {'environment': 'gcp-starter',\n",
       "                               'pod_type': 'starter',\n",
       "                               'pods': 1,\n",
       "                               'replicas': 1,\n",
       "                               'shards': 1}},\n",
       "              'status': {'ready': True, 'state': 'Ready'}}]}"
      ]
     },
     "execution_count": 4,
     "metadata": {},
     "output_type": "execute_result"
    }
   ],
   "source": [
    "from pinecone import Pinecone\n",
    "\n",
    "pc= Pinecone()\n",
    "\n",
    "# after creating the pinecone instance, we can check if it is successfully connected by attempting to perform an operation that requires authentication.\n",
    "# For instance, we can create an index or list all existing indexes. If the operation completes without errors, your authentication is working.\n",
    "pc.list_indexes()"
   ]
  },
  {
   "cell_type": "markdown",
   "id": "1589a26d-c4f3-4af8-84d5-e4da7e53325a",
   "metadata": {},
   "source": [
    "# Pinecone Indexes"
   ]
  },
  {
   "cell_type": "markdown",
   "id": "16cec0e9-93d4-430c-bf42-0ed1f4539277",
   "metadata": {},
   "source": [
    "* An index is the highest level organizational unit of vector data in Pinecone\n",
    "* It accepts and stores vectors, serves queires over the vectors it contains, and does other vector operations over its contents.\n",
    "* Serverless Indexes: you do not configure or manage any compute or storage resources(they sclae automatically).\n",
    "* Pod-based indexes: you choose one or more pre-configured units of hardware(pods)."
   ]
  },
  {
   "cell_type": "code",
   "execution_count": 5,
   "id": "3deaa59c-3f33-42b2-a0c0-fbfe8912ebbb",
   "metadata": {},
   "outputs": [
    {
     "name": "stdout",
     "output_type": "stream",
     "text": [
      "Index is created successfully\n"
     ]
    }
   ],
   "source": [
    "from pinecone import ServerlessSpec\n",
    "\n",
    "index_name='biai'\n",
    "if index_name not in pc.list_indexes().names():\n",
    "    pc.create_index(\n",
    "    name=index_name,\n",
    "    dimension=1536, # default dimension for text embedding, one of the recommended OpenAI's embedding models.\n",
    "    metric='cosine', # algorithm to calculate distance between vectors.\n",
    "    spec= ServerlessSpec(\n",
    "        cloud='aws',\n",
    "        region='us-east-1'\n",
    "        )\n",
    "    )\n",
    "    print('Index is created successfully')\n",
    "\n",
    "else:\n",
    "    print(f'Index {index_name} already exists')\n"
   ]
  },
  {
   "cell_type": "code",
   "execution_count": 38,
   "id": "00799c41-18fc-4d3c-bff9-0e7d50abd85e",
   "metadata": {},
   "outputs": [
    {
     "name": "stdout",
     "output_type": "stream",
     "text": [
      "Deleting index biai\n",
      "index is deleted\n"
     ]
    }
   ],
   "source": [
    "# delete index\n",
    "\n",
    "index_name='biai'\n",
    "if index_name in pc.list_indexes().names():\n",
    "    print(f'Deleting index {index_name}')\n",
    "    pc.delete_index(index_name)\n",
    "    print('index is deleted')\n",
    "else:\n",
    "    print(f'index {index_name} does not exist')"
   ]
  },
  {
   "cell_type": "code",
   "execution_count": 6,
   "id": "698a1556-81f0-4cb2-86e8-a832d4fa3253",
   "metadata": {},
   "outputs": [
    {
     "data": {
      "text/plain": [
       "{'dimension': 1536,\n",
       " 'index_fullness': 0.0,\n",
       " 'namespaces': {},\n",
       " 'total_vector_count': 0}"
      ]
     },
     "execution_count": 6,
     "metadata": {},
     "output_type": "execute_result"
    }
   ],
   "source": [
    "index=pc.Index(index_name)\n",
    "index.describe_index_stats()"
   ]
  },
  {
   "cell_type": "code",
   "execution_count": 46,
   "id": "11a25ed5-a77b-4dd4-b88f-547bf64081be",
   "metadata": {},
   "outputs": [
    {
     "data": {
      "text/plain": [
       "{'upserted_count': 5}"
      ]
     },
     "execution_count": 46,
     "metadata": {},
     "output_type": "execute_result"
    }
   ],
   "source": [
    "import random\n",
    "vectors= [[random.random() for _ in range(1536)] for v in range(5)]\n",
    "# print(vectors)\n",
    "ids= list('abcde')\n",
    "\n",
    "index_name='biai'\n",
    "index=pc.Index(index_name)\n",
    "\n",
    "index.upsert(vectors=zip(ids, vectors))"
   ]
  },
  {
   "cell_type": "markdown",
   "id": "a7035a93-8135-4993-a00c-225c7392bf35",
   "metadata": {},
   "source": [
    "* The upsert method returned the number of vectors inserted."
   ]
  },
  {
   "cell_type": "markdown",
   "id": "05593c82-a9e2-47e0-96f3-710d11ff4418",
   "metadata": {},
   "source": [
    "* When dealing with very long pieces of text, it is necessary to split the text into chunks. You also want to keep senamtically related pieces of text together.\n",
    "* There are LangChain loaders that can be used to load data from almost any type of documents, CSV, Facebook chats, PDF, JSON, etc."
   ]
  },
  {
   "cell_type": "code",
   "execution_count": 3,
   "id": "63050188-4ecf-4aa8-aebc-f7d7d6263898",
   "metadata": {},
   "outputs": [],
   "source": [
    "from langchain.text_splitter import RecursiveCharacterTextSplitter\n",
    "import fitz\n",
    "\n",
    "with fitz.open(\"den.pdf\") as pdf:\n",
    "    # Extract text from each page\n",
    "    churchill = \"\"\n",
    "    for page in pdf:\n",
    "        churchill += page.get_text()\n",
    "    \n",
    "text_splitter=RecursiveCharacterTextSplitter(\n",
    "    chunk_size=100,\n",
    "    chunk_overlap=20,\n",
    "    length_function=len\n",
    ")"
   ]
  },
  {
   "cell_type": "code",
   "execution_count": 4,
   "id": "29fc7f12-579c-4c95-a1a6-98beba94ee36",
   "metadata": {},
   "outputs": [
    {
     "name": "stdout",
     "output_type": "stream",
     "text": [
      "page_content='I am a fourth-year student at TED University. My department is Software Engineering.'\n",
      "page_content='artiﬁcial intelligence. First internship was in Ministry of Justice. The department name'\n"
     ]
    }
   ],
   "source": [
    "chunks= text_splitter.create_documents([churchill])\n",
    "\n",
    "print(chunks[0])\n",
    "print(chunks[3])"
   ]
  },
  {
   "cell_type": "code",
   "execution_count": 5,
   "id": "cfc80700-9ce6-4655-a571-aa08636fbec2",
   "metadata": {},
   "outputs": [
    {
     "name": "stdout",
     "output_type": "stream",
     "text": [
      "now we have 29 chunk\n"
     ]
    }
   ],
   "source": [
    "print(f'now we have {len(chunks)} chunk')"
   ]
  },
  {
   "cell_type": "markdown",
   "id": "fdf593c9-88fa-4e83-93f1-86f3a4a59a9f",
   "metadata": {},
   "source": [
    "### Embedding Cost"
   ]
  },
  {
   "cell_type": "code",
   "execution_count": 67,
   "id": "f9462c04-6b69-4bdf-a07c-dcb156229395",
   "metadata": {},
   "outputs": [
    {
     "data": {
      "text/plain": [
       "\"import tiktoken\\ndef print_embedding_cost(texts):\\n    enc= tiktoken.encoding_for_model('text_embedding-ada-002')\\n    total_tokens=sum([len(enc.encode(page.page_content)) for page in texts])\\n    print(f'Total tokens: {total_tokens}')\\n    print(f'Embedding Cost in USD: {total_tokens/1000 *0.0004:.6f}')\\n    \\nprint_embedding_cost(chunks)\""
      ]
     },
     "execution_count": 67,
     "metadata": {},
     "output_type": "execute_result"
    }
   ],
   "source": [
    "'''import tiktoken\n",
    "def print_embedding_cost(texts):\n",
    "    enc= tiktoken.encoding_for_model('text_embedding-ada-002')\n",
    "    total_tokens=sum([len(enc.encode(page.page_content)) for page in texts])\n",
    "    print(f'Total tokens: {total_tokens}')\n",
    "    print(f'Embedding Cost in USD: {total_tokens/1000 *0.0004:.6f}')\n",
    "    \n",
    "print_embedding_cost(chunks)'''"
   ]
  },
  {
   "cell_type": "code",
   "execution_count": 7,
   "id": "6af80b13-e866-43b4-bf3f-3dd1024adba8",
   "metadata": {},
   "outputs": [],
   "source": [
    "from langchain.embeddings import OpenAIEmbeddings\n",
    "\n",
    "embedding = OpenAIEmbeddings(model='text-embedding-3-small')"
   ]
  },
  {
   "cell_type": "code",
   "execution_count": 69,
   "id": "05fd07f1-15ba-4c58-a551-e44ebb6b16eb",
   "metadata": {
    "scrolled": true
   },
   "outputs": [
    {
     "data": {
      "text/plain": [
       "[0.0026326572446609213,\n",
       " -0.011323257116496848,\n",
       " -0.009518612911691758,\n",
       " -0.0391218542455361,\n",
       " -0.03445101085960413,\n",
       " 0.012172501283818792,\n",
       " -0.02125941545741194,\n",
       " -0.022816363252722596,\n",
       " 0.01878245322511272,\n",
       " -0.00042484330187172293,\n",
       " 0.0033845924076065883,\n",
       " 0.019207074843112414,\n",
       " -0.00277773657687425,\n",
       " -0.004426686002148274,\n",
       " -0.01873999050451922,\n",
       " 0.002970585771263353,\n",
       " 0.027119201981446208,\n",
       " 0.010700477998372584,\n",
       " 0.010721709358669337,\n",
       " 0.007537043032720129,\n",
       " -0.014444229827217079,\n",
       " 0.01793320812646822,\n",
       " -0.006921341034694784,\n",
       " -0.015597787364824792,\n",
       " -0.02016955200069448,\n",
       " -0.0035579797545543077,\n",
       " 0.009893695620321588,\n",
       " -0.020084628422152584,\n",
       " 0.026298265363197376,\n",
       " -0.007338885998256838,\n",
       " 0.007855510177542456,\n",
       " 0.013828527829191733,\n",
       " -0.007381348253189064,\n",
       " -0.009957389701211843,\n",
       " -0.010431551159903955,\n",
       " -0.014182380108847367,\n",
       " -0.013644525500587553,\n",
       " -0.01590917599256437,\n",
       " 0.01029000968924817,\n",
       " -0.0003295244755887975,\n",
       " 0.02440161952842892,\n",
       " 0.004522225726499822,\n",
       " 0.014104532719081833,\n",
       " -0.02300036651264933,\n",
       " -0.012795280401943054,\n",
       " -0.011415258746460214,\n",
       " -0.017282122390593402,\n",
       " -0.015272243565564827,\n",
       " -0.024189307788106518,\n",
       " 0.01578178969342897,\n",
       " -0.007416733388022371,\n",
       " 0.004373608067067674,\n",
       " -0.02595856732373958,\n",
       " -0.023127752811784728,\n",
       " 0.006694875985497102,\n",
       " -0.0074804270032513475,\n",
       " 0.0051379281901864455,\n",
       " 0.03541348801718619,\n",
       " 0.002512347832793802,\n",
       " -0.010495244309471654,\n",
       " 0.007558274393016881,\n",
       " 0.00673026112033041,\n",
       " -0.013191594470869636,\n",
       " 0.008039512506146634,\n",
       " 0.00893121939406208,\n",
       " -0.02014124352029881,\n",
       " 0.0003109472681597789,\n",
       " 0.004734537001160947,\n",
       " -0.008407518094677546,\n",
       " 0.0074521185228556795,\n",
       " 0.01796151660686389,\n",
       " 0.015895021752366532,\n",
       " 0.00798997359677677,\n",
       " -0.005258237834884203,\n",
       " 0.030459561689942648,\n",
       " -0.011478951896027913,\n",
       " -0.022122814796254272,\n",
       " 0.0006510873074816327,\n",
       " -0.010842018537705816,\n",
       " 0.01494669976630486,\n",
       " 0.004168373912505466,\n",
       " -0.02365145411116926,\n",
       " -0.008973681183333028,\n",
       " 0.013962991248426046,\n",
       " 0.007246884833954749,\n",
       " 0.020848948079610078,\n",
       " -0.0003467747521030989,\n",
       " -0.00527239160942076,\n",
       " -0.0013419829498583964,\n",
       " 0.0005267968409358937,\n",
       " 0.02546317450475071,\n",
       " 0.004748691241358781,\n",
       " 0.015272243565564827,\n",
       " 0.002802506264389821,\n",
       " -0.015711020355084912,\n",
       " -0.00652856552581766,\n",
       " -0.0005931440851636653,\n",
       " 0.0318466604655244,\n",
       " 0.004033910493271151,\n",
       " -0.04520810302480038,\n",
       " 0.02021201472128798,\n",
       " 0.013354366370499618,\n",
       " -0.020452633079360943,\n",
       " -0.01796151660686389,\n",
       " -0.020565867000943615,\n",
       " -0.03306391022137726,\n",
       " -0.005590858288581808,\n",
       " 0.004561149421382588,\n",
       " 0.03221466698537787,\n",
       " -0.010417396919706123,\n",
       " 0.00601548037224278,\n",
       " 0.004171912472554924,\n",
       " 0.007685660692152278,\n",
       " -0.039546477726180904,\n",
       " 0.005520088018915193,\n",
       " 0.0114506443469548,\n",
       " -0.002627349637417372,\n",
       " -0.015654403394293574,\n",
       " 0.0034412086699060086,\n",
       " -0.0052122370199025195,\n",
       " 0.00444083977668483,\n",
       " 0.028690304016954698,\n",
       " 0.02781275043791453,\n",
       " -0.003112126543427223,\n",
       " 0.018683375406372993,\n",
       " -0.0018471063433219952,\n",
       " -0.011889420205152329,\n",
       " -0.015611940673700071,\n",
       " 0.014274380807488178,\n",
       " 0.010382011319211536,\n",
       " 0.03968801640286902,\n",
       " 0.015654403394293574,\n",
       " 0.016546109350886466,\n",
       " 0.016928270110937768,\n",
       " -0.026779503941988407,\n",
       " 0.0159233302327622,\n",
       " -0.021768962516598638,\n",
       " 0.024444082249022423,\n",
       " -0.046736746065005594,\n",
       " -0.024472390729418092,\n",
       " -0.005548396033649583,\n",
       " 0.03535687105639485,\n",
       " -0.020877256560005747,\n",
       " 0.00966015345102499,\n",
       " -0.0008532251055852447,\n",
       " 0.008987835423530863,\n",
       " 0.03405469585935499,\n",
       " 0.002820198831806475,\n",
       " -0.008018281145849883,\n",
       " -0.004285144997153765,\n",
       " 0.013283596100833003,\n",
       " -0.023085290091191223,\n",
       " 0.014323920648180598,\n",
       " 0.021457572957536506,\n",
       " -0.010778325388138117,\n",
       " 0.016447031532146737,\n",
       " 0.007331809343819199,\n",
       " 0.0022274970084413324,\n",
       " -0.006765646255163718,\n",
       " -0.016347951850761898,\n",
       " -0.0069708804097259255,\n",
       " 0.021344340898598945,\n",
       " 0.021556650776276234,\n",
       " -0.016815036189355093,\n",
       " 0.0027317357618925667,\n",
       " -0.004408993201900981,\n",
       " 0.029185694973298454,\n",
       " 0.00844998081527105,\n",
       " -0.016107333492688936,\n",
       " -0.02600103004433308,\n",
       " -0.01755104922906203,\n",
       " 0.00010239585907035302,\n",
       " -0.007169037444189216,\n",
       " -0.0010323625544056748,\n",
       " -0.016263028272220002,\n",
       " 0.024373311048033253,\n",
       " -0.0066665679707627115,\n",
       " 0.010417396919706123,\n",
       " -0.02593025884334391,\n",
       " -0.011967267594917862,\n",
       " -0.0002443788930327459,\n",
       " 0.018796607465310557,\n",
       " 0.013078362411932073,\n",
       " 0.028435529556038792,\n",
       " -0.014309766407982764,\n",
       " 0.006747953454916425,\n",
       " 0.017126427611062336,\n",
       " -0.020183706240892312,\n",
       " 0.02208035207566077,\n",
       " -0.03246943958364867,\n",
       " 0.002073571508934996,\n",
       " 0.0027441207220656716,\n",
       " 0.020848948079610078,\n",
       " -0.024953627445564012,\n",
       " -0.6857364632685068,\n",
       " -0.009759232201087273,\n",
       " 0.004076372748203376,\n",
       " -0.018088902905999286,\n",
       " 0.00727519284868914,\n",
       " 0.032016511347898416,\n",
       " 0.01629133675261567,\n",
       " 0.0006320677800464317,\n",
       " -0.0215424965360784,\n",
       " 0.004288683557203223,\n",
       " 0.01090571261859607,\n",
       " 0.002333652645771895,\n",
       " -0.0019479541405783697,\n",
       " -0.0003478805521185547,\n",
       " -0.005927017302328872,\n",
       " -0.012682048343005492,\n",
       " 0.0106013992483103,\n",
       " -0.01520147329589821,\n",
       " -0.0010412088381140017,\n",
       " 0.023962843670231392,\n",
       " -0.01489008373683608,\n",
       " 0.013842682069389567,\n",
       " -0.021146183398474374,\n",
       " -0.0056899365729828144,\n",
       " 0.019504310161976714,\n",
       " 0.0008647253093306656,\n",
       " 0.006939033834942076,\n",
       " -0.031082340808066912,\n",
       " -0.017834130307728492,\n",
       " -0.003195281773266944,\n",
       " -0.01237065878394336,\n",
       " 0.004575303661580423,\n",
       " 0.001220788665148274,\n",
       " 0.02360899139057576,\n",
       " 0.04515148978929927,\n",
       " 0.012533430683573344,\n",
       " -0.015527016163835622,\n",
       " 0.020735714158027403,\n",
       " 0.021768962516598638,\n",
       " 0.0285204549972258,\n",
       " 0.002795429144290904,\n",
       " -0.015229780844971324,\n",
       " 0.01670180413041753,\n",
       " 0.0034111313751468884,\n",
       " -0.013354366370499618,\n",
       " 0.008980758303431945,\n",
       " 0.013467599360759737,\n",
       " -0.0010199778270632088,\n",
       " 0.011047253157929302,\n",
       " -0.018570141484790317,\n",
       " 0.027614592937789964,\n",
       " -0.01177618721489221,\n",
       " -0.014932545526107026,\n",
       " -0.0022469588558827157,\n",
       " 0.02409022996936679,\n",
       " -0.008980758303431945,\n",
       " 0.024953627445564012,\n",
       " -0.0027618132894823254,\n",
       " -0.0012641355600928634,\n",
       " 0.008478289295666719,\n",
       " -0.009377072372358526,\n",
       " 0.00727519284868914,\n",
       " -0.004631920156710482,\n",
       " -0.04093357463911755,\n",
       " -0.01827290616592602,\n",
       " 0.021386801756547336,\n",
       " -0.015654403394293574,\n",
       " 0.015767635453231135,\n",
       " 0.03323376110375127,\n",
       " -0.017975670847061725,\n",
       " -0.011832804175683548,\n",
       " 0.007409656733584732,\n",
       " -0.0014366382670282184,\n",
       " -0.012229118244610128,\n",
       " 0.018541833004394652,\n",
       " 0.011648800915756813,\n",
       " 0.01924953756370592,\n",
       " 0.005459932963735674,\n",
       " -0.02457146854815782,\n",
       " 0.010389088439310454,\n",
       " 0.000714338311666128,\n",
       " 0.01245558329380781,\n",
       " -0.008414595214776464,\n",
       " 0.010488167189372738,\n",
       " 0.0225191279338583,\n",
       " 0.013318981701327589,\n",
       " -0.02713335622164404,\n",
       " 0.00481238439092648,\n",
       " 0.013156209801697606,\n",
       " -0.017013193689479664,\n",
       " 0.027232434040383773,\n",
       " 0.028789381835694426,\n",
       " -0.0060013265977062235,\n",
       " -0.011521414616621416,\n",
       " 0.014281457927587095,\n",
       " 0.01612148773288677,\n",
       " -2.21433815560443e-05,\n",
       " 0.008803832163604128,\n",
       " 0.0027246588746242884,\n",
       " -0.03745167252864277,\n",
       " -0.00983000247075389,\n",
       " 0.0004328049746715151,\n",
       " 0.02007047418195475,\n",
       " -0.006351639851651121,\n",
       " 0.008662291624270896,\n",
       " -0.007140728963793547,\n",
       " 0.009858310951149557,\n",
       " 0.02062248209908984,\n",
       " 0.047699223222587656,\n",
       " -0.023807148890700326,\n",
       " -0.007636121782782414,\n",
       " -0.002499962872620697,\n",
       " -0.005222852234389617,\n",
       " -0.00652856552581766,\n",
       " 0.01602240991414704,\n",
       " -0.040905266158721885,\n",
       " 0.008400441905901185,\n",
       " -0.008733061893937513,\n",
       " 0.016928270110937768,\n",
       " -0.015611940673700071,\n",
       " 0.011167562336965782,\n",
       " -0.001180095690240778,\n",
       " 0.013821450709092815,\n",
       " 0.003998525358437843,\n",
       " -0.01059432305953394,\n",
       " 0.01059432305953394,\n",
       " 0.005063619360470371,\n",
       " -0.002266420703324099,\n",
       " -0.003297898617717409,\n",
       " -0.00747334988315243,\n",
       " -0.0026715809395436874,\n",
       " 0.005229929354488534,\n",
       " 0.016857498909948598,\n",
       " -0.008662291624270896,\n",
       " 0.006698414545546561,\n",
       " 0.009999851490482789,\n",
       " 0.010318318169643837,\n",
       " -0.025194247666282085,\n",
       " 0.005757168748261249,\n",
       " 0.0030732028485444566,\n",
       " -0.026595500682061676,\n",
       " -0.022788054772326927,\n",
       " -0.004762845015895338,\n",
       " -0.011457720535731162,\n",
       " -0.002383191787972398,\n",
       " -0.026680424260603568,\n",
       " -0.023354218792304964,\n",
       " 0.0008116475488730441,\n",
       " -0.0113444884767936,\n",
       " 0.008287208915641067,\n",
       " -0.02341083389045119,\n",
       " -0.005145004844624085,\n",
       " -0.007706892052449029,\n",
       " 0.0327808291427108,\n",
       " 0.003389900247680776,\n",
       " -0.04223574983615741,\n",
       " 0.007586582407751271,\n",
       " -0.022221892614994,\n",
       " -0.0032784367702760257,\n",
       " 0.02518009342608425,\n",
       " 0.02493947506801129,\n",
       " -0.0018594911870797807,\n",
       " -0.006192406512070597,\n",
       " 0.019787391240643177,\n",
       " 0.004539918526747115,\n",
       " -0.017706744008593095,\n",
       " 0.005130851070087528,\n",
       " -0.0062348687670028225,\n",
       " -0.018046442048050896,\n",
       " -0.028237372055914225,\n",
       " 0.0013251749060387875,\n",
       " -0.033346991300043725,\n",
       " -0.006376409306336053,\n",
       " 0.024274233229293524,\n",
       " 0.0030590488411772615,\n",
       " 0.007841355937344622,\n",
       " -0.01082078810873162,\n",
       " 0.016744266851011033,\n",
       " 0.015017470035971477,\n",
       " 0.0002596387586230568,\n",
       " 0.001237596592552563,\n",
       " 0.005781938202946182,\n",
       " -0.0075795052876523545,\n",
       " -0.00973092465201416,\n",
       " 0.02512347646529291,\n",
       " 0.009150607323160845,\n",
       " 0.011670032276053564,\n",
       " 0.01612148773288677,\n",
       " -0.027274896760977274,\n",
       " 0.0024398080502718183,\n",
       " -0.007883817726615568,\n",
       " 0.010997713317236882,\n",
       " 0.010162623390112773,\n",
       " -0.000517065917215202,\n",
       " -0.011082637827101331,\n",
       " -0.010488167189372738,\n",
       " 0.007855510177542456,\n",
       " 0.005937632982477247,\n",
       " 0.016857498909948598,\n",
       " 0.018612604205383822,\n",
       " 0.03544179649758186,\n",
       " 0.003984371118240009,\n",
       " 0.010735863598867171,\n",
       " 0.017565203469259865,\n",
       " 0.011075560707002415,\n",
       " -0.023538222052231696,\n",
       " 0.00033571689746769023,\n",
       " -0.02450069734716865,\n",
       " 0.03439439389881279,\n",
       " 0.010488167189372738,\n",
       " -0.010155546270013855,\n",
       " -0.01890983952424812,\n",
       " -0.004101142202888308,\n",
       " -0.01990062516222585,\n",
       " -0.010721709358669337,\n",
       " 0.03535687105639485,\n",
       " -0.024005306390824894,\n",
       " 0.004656689611395414,\n",
       " 0.0223917416347229,\n",
       " -0.006344562731552204,\n",
       " -0.012809434642140889,\n",
       " -0.006033173172490073,\n",
       " 0.002328344805697707,\n",
       " 0.027770287717321027,\n",
       " -0.007508735017985739,\n",
       " -0.0050600808004209125,\n",
       " -0.005767784428409625,\n",
       " -0.004936232595673696,\n",
       " -0.015300551114637939,\n",
       " -0.008004127836974604,\n",
       " -0.00013556946663232392,\n",
       " 0.007388425373287981,\n",
       " -0.0009182453897944694,\n",
       " 0.01748027802807286,\n",
       " 0.006737338240429327,\n",
       " 0.000691337962382946,\n",
       " 0.00893121939406208,\n",
       " -0.02355237442978442,\n",
       " 0.028194911197965834,\n",
       " -0.013488830721056489,\n",
       " 0.006344562731552204,\n",
       " 0.02893092237502766,\n",
       " 0.020523404280350113,\n",
       " 0.002429192602954082,\n",
       " 0.020509250040152277,\n",
       " -0.005551934593699042,\n",
       " 0.02314190705198256,\n",
       " 0.013184517350770718,\n",
       " -0.007430887628220206,\n",
       " 0.006677183185249809,\n",
       " -0.012936821872598842,\n",
       " 0.0004741614004844544,\n",
       " -0.04019756532470083,\n",
       " 0.030318021150609418,\n",
       " 0.0110047904373358,\n",
       " 0.007031034999244166,\n",
       " 0.020084628422152584,\n",
       " 0.013679910169759585,\n",
       " 0.015965792953355706,\n",
       " 0.023226832493169567,\n",
       " 0.007006265544559233,\n",
       " 0.014706080476909345,\n",
       " 0.003366899840189934,\n",
       " 0.002984739778630548,\n",
       " 0.019476001681581045,\n",
       " 0.004324068692036531,\n",
       " 0.004401916081802064,\n",
       " -0.023396679650253355,\n",
       " -0.01956092712276805,\n",
       " -0.01726796815039557,\n",
       " 0.005629781983464575,\n",
       " -0.03227128394616921,\n",
       " -0.019122151264570522,\n",
       " -0.011103869187398084,\n",
       " 0.01748027802807286,\n",
       " -0.024288387469491357,\n",
       " -0.03609288409610179,\n",
       " 0.006008403252143863,\n",
       " 0.019405232343236985,\n",
       " -0.01675842109120887,\n",
       " -0.004334684372184907,\n",
       " -0.021938811536327537,\n",
       " 0.003917139408622852,\n",
       " 0.01697073283153127,\n",
       " -0.0027069663072076342,\n",
       " -0.01520147329589821,\n",
       " -0.00036446734862358274,\n",
       " 0.004483302031617055,\n",
       " -0.03476240041866626,\n",
       " 0.01973077614249695,\n",
       " -0.007876740606516651,\n",
       " -0.00865521450417198,\n",
       " 0.0022381126885897083,\n",
       " 0.005530703699063568,\n",
       " 0.004253298422369916,\n",
       " -0.003970216878042175,\n",
       " 0.010728786478768253,\n",
       " -0.01031124104954492,\n",
       " -0.03507378997772839,\n",
       " -0.012257425793683241,\n",
       " -0.008697677224765483,\n",
       " -0.026496422863321944,\n",
       " -0.006022557492341697,\n",
       " -0.015484554374564674,\n",
       " 0.04336807415082326,\n",
       " 0.0038039066511933724,\n",
       " -0.004426686002148274,\n",
       " -0.02024032320168365,\n",
       " -0.02072156178047468,\n",
       " 0.0021850347535091073,\n",
       " -0.012356504543745525,\n",
       " 0.008251823315146482,\n",
       " -0.024146846930158127,\n",
       " 0.0016604495126041254,\n",
       " -0.004493917711765431,\n",
       " -0.008166899736604586,\n",
       " -0.01871168202412355,\n",
       " -0.009398303732655279,\n",
       " 0.034875634340248936,\n",
       " -0.008046589626245552,\n",
       " -0.02314190705198256,\n",
       " -0.003711905254060644,\n",
       " -0.014366382437451546,\n",
       " -0.0032890524504244015,\n",
       " 0.05726737411232673,\n",
       " 0.013446368000462986,\n",
       " -0.005962402902823457,\n",
       " 0.024812086906230782,\n",
       " -0.009907849860519423,\n",
       " 0.018244597685530353,\n",
       " -0.0081952072856777,\n",
       " -0.0032572056428099134,\n",
       " 0.019928933642621518,\n",
       " -0.00211780304389195,\n",
       " 0.008718908585062234,\n",
       " -0.004642535371197579,\n",
       " 0.01963169646111211,\n",
       " 0.0045469956468460315,\n",
       " 0.006429487241416654,\n",
       " 0.032667598946418346,\n",
       " 0.002186804033533837,\n",
       " -0.019546772882570215,\n",
       " 0.029129079875152227,\n",
       " 0.003304975737816326,\n",
       " -0.015895021752366532,\n",
       " -0.013962991248426046,\n",
       " 0.03204481982829408,\n",
       " 0.036998744292892516,\n",
       " -0.009030298144124364,\n",
       " -0.013488830721056489,\n",
       " -0.011754956785918015,\n",
       " 0.019674159181705612,\n",
       " 0.0062313302069533635,\n",
       " -0.03303560174098159,\n",
       " -0.008152745496406752,\n",
       " 0.011868188844855578,\n",
       " 0.01682919042955293,\n",
       " 0.031223881347400142,\n",
       " 0.03728182537155898,\n",
       " 0.01815967410698846,\n",
       " 0.007204422579022524,\n",
       " -0.009009066783827614,\n",
       " 0.00547054864388405,\n",
       " -0.012986360781968706,\n",
       " 0.03547010497797753,\n",
       " 0.01731042900834396,\n",
       " -0.006256099661638296,\n",
       " -0.027345666099321334,\n",
       " -0.00014773312128318842,\n",
       " -0.007119498069158074,\n",
       " -0.025335788205615314,\n",
       " 0.016277182512417835,\n",
       " 0.004405454641851523,\n",
       " -0.010919865927471349,\n",
       " 0.024472390729418092,\n",
       " 0.0013649832409339186,\n",
       " -0.028194911197965834,\n",
       " 0.0026202725173184553,\n",
       " -0.005739475948013956,\n",
       " 0.013594985659895134,\n",
       " -0.01793320812646822,\n",
       " -0.00874013901403643,\n",
       " 0.012498045083078757,\n",
       " -0.018626758445581655,\n",
       " -0.018216291067779795,\n",
       " -0.017777513346937158,\n",
       " 0.0075016578978868214,\n",
       " 0.01866922116617516,\n",
       " -0.011670032276053564,\n",
       " -0.019277846044101588,\n",
       " -0.015159010575304709,\n",
       " 0.010615553488508135,\n",
       " -0.007207961139071983,\n",
       " -0.013863913429686318,\n",
       " 0.004833615285561953,\n",
       " -0.019263691803903752,\n",
       " -0.02689273600092597,\n",
       " 0.0005489126084143708,\n",
       " 0.019886470922028016,\n",
       " 0.0018258752158558827,\n",
       " 0.023976997910429225,\n",
       " -0.012943898061375202,\n",
       " 0.0037685215163600645,\n",
       " 0.02118864611906788,\n",
       " -0.022816363252722596,\n",
       " -0.02089140893755847,\n",
       " 0.0030625871683960812,\n",
       " -0.029865091052214052,\n",
       " -0.024472390729418092,\n",
       " 0.017395354449530966,\n",
       " 0.014861775256440411,\n",
       " -0.0073247322237202815,\n",
       " 0.005035310880074703,\n",
       " 0.027855213158508033,\n",
       " -0.0003719867014171926,\n",
       " -0.012554661112547539,\n",
       " 0.038470766647016166,\n",
       " 0.0029316620763805866,\n",
       " 0.015173164815502542,\n",
       " -0.006068558307323381,\n",
       " 0.013142055561499772,\n",
       " 0.0215424965360784,\n",
       " -0.01735289172893746,\n",
       " -0.016857498909948598,\n",
       " 0.005544857473600125,\n",
       " -0.011953113354720027,\n",
       " 0.013347289250400702,\n",
       " -0.0025017321526454267,\n",
       " 0.010481090069273821,\n",
       " -0.006935495274892618,\n",
       " 0.029666933552089485,\n",
       " 0.021556650776276234,\n",
       " -0.014649464447440563,\n",
       " -0.015371321384304555,\n",
       " 0.025307479725219646,\n",
       " -0.03402638737895933,\n",
       " 0.0015339475042351345,\n",
       " -0.005944710102576164,\n",
       " -0.0034235161024893544,\n",
       " 0.005495318098568983,\n",
       " 0.013333135941525423,\n",
       " 0.00484069240566087,\n",
       " 0.001555178631701247,\n",
       " -0.017664281287999593,\n",
       " 0.00131809790235519,\n",
       " -0.02450069734716865,\n",
       " 0.030657719190067215,\n",
       " 0.020013857221163413,\n",
       " -0.025293325485021813,\n",
       " 0.017154734228812894,\n",
       " 0.001597640886633472,\n",
       " -0.011047253157929302,\n",
       " -0.0159233302327622,\n",
       " -0.010070621760149405,\n",
       " 0.0019603389843361554,\n",
       " 0.012406043453115391,\n",
       " -0.01371529577025417,\n",
       " -0.022957903792055825,\n",
       " -0.052030368569061826,\n",
       " -0.005428086388951825,\n",
       " -0.002885661261398903,\n",
       " 0.06040957818334371,\n",
       " -0.002323036965623519,\n",
       " -0.006128712896841621,\n",
       " -0.021075412197485204,\n",
       " 0.01823044344533252,\n",
       " 0.005629781983464575,\n",
       " -0.0080253582659488,\n",
       " -0.01653195511068863,\n",
       " -0.041980977237886616,\n",
       " -0.0056156277432667405,\n",
       " 0.0015100625731472475,\n",
       " -0.0029935861787541945,\n",
       " 0.019532618642372383,\n",
       " 0.001667526516287723,\n",
       " 0.014607001726847061,\n",
       " -0.012766972852869941,\n",
       " 0.008060743866443384,\n",
       " -0.022377587394525066,\n",
       " -0.02229266195333806,\n",
       " -0.015045778516367144,\n",
       " -0.02266066847319153,\n",
       " 0.02392038094963789,\n",
       " 0.021698191315609468,\n",
       " 0.03798952993087025,\n",
       " 0.00409760364283885,\n",
       " 0.00441253176195044,\n",
       " 0.024486543106970814,\n",
       " -0.00993615834091509,\n",
       " 0.011500183256324665,\n",
       " 0.009815848230556055,\n",
       " 0.017027347929677496,\n",
       " -0.03563995213506132,\n",
       " -0.001176557246606639,\n",
       " 0.026751195461592738,\n",
       " -0.003589826329338157,\n",
       " 0.011662955155954648,\n",
       " -0.012512199323276591,\n",
       " 0.02157080501647407,\n",
       " 0.026538883721270338,\n",
       " 0.0017427201024314814,\n",
       " -0.03365838085910586,\n",
       " -0.0023442680930896315,\n",
       " 0.004316992037598892,\n",
       " -0.01624887403202217,\n",
       " -0.015243935085169158,\n",
       " -0.007466272763053513,\n",
       " 0.030176480611276185,\n",
       " -0.025434866024355043,\n",
       " 0.0021372648913333334,\n",
       " 0.026963507201915142,\n",
       " 0.030969108749129347,\n",
       " 0.009171838683457596,\n",
       " -0.021047103717089535,\n",
       " 0.05520088112047448,\n",
       " 0.007614890422485662,\n",
       " 0.020933871658151974,\n",
       " 0.008669368744369814,\n",
       " -0.005523626578964651,\n",
       " -0.018612604205383822,\n",
       " -0.007883817726615568,\n",
       " 0.00636225506613822,\n",
       " -0.010459858708977069,\n",
       " 0.012427274813412142,\n",
       " 0.018287060406123858,\n",
       " 0.032384514142461664,\n",
       " -0.003250128755541635,\n",
       " -0.006949649049429174,\n",
       " -0.01257589247284429,\n",
       " 0.003814522331341748,\n",
       " -0.001898414881962547,\n",
       " -0.014918391285909192,\n",
       " 0.011202947937460368,\n",
       " -0.010077698880248322,\n",
       " 0.000897014262328357,\n",
       " -0.013071285291833155,\n",
       " -0.016064870772095435,\n",
       " -0.0430849930721568,\n",
       " -0.004348838612382742,\n",
       " 0.00011273496552358785,\n",
       " 0.0009509766627983431,\n",
       " 0.01624887403202217,\n",
       " -0.008641061195296701,\n",
       " -0.030204789091671853,\n",
       " -0.0016445262252122008,\n",
       " -0.007331809343819199,\n",
       " 0.023354218792304964,\n",
       " -0.018527680626841927,\n",
       " 0.008230592886172285,\n",
       " 0.013672833049660667,\n",
       " 0.006479026150786518,\n",
       " -0.006648875170515419,\n",
       " 0.002425654042904623,\n",
       " -0.027175817079592435,\n",
       " -0.024444082249022423,\n",
       " 0.02067909905988118,\n",
       " 0.021995426634473764,\n",
       " 0.0030608178883713517,\n",
       " -0.007236269153806373,\n",
       " 0.001528639780576266,\n",
       " 0.0225615906544518,\n",
       " -0.018315368886519523,\n",
       " -0.02413269268996029,\n",
       " 0.029808474091422718,\n",
       " 0.021415110236943005,\n",
       " 0.0008620714475012314,\n",
       " -0.024387465288231085,\n",
       " -0.011443567226855883,\n",
       " -0.017522740748666363,\n",
       " 0.016999039449281828,\n",
       " -0.0077847394422145616,\n",
       " -0.0049043860208898464,\n",
       " -0.025137630705490747,\n",
       " -0.03130880678858715,\n",
       " -0.010424474039805039,\n",
       " 0.01890983952424812,\n",
       " -0.010573091699237187,\n",
       " 0.027784441957518863,\n",
       " 0.028109985756778828,\n",
       " -0.01262543231353671,\n",
       " 0.008202284405776616,\n",
       " -0.010665093329200554,\n",
       " -0.00601548037224278,\n",
       " 0.005222852234389617,\n",
       " -0.010275856380372891,\n",
       " 0.03156357938685794,\n",
       " -0.016616880551875636,\n",
       " 1.241936817595461e-05,\n",
       " 0.02229266195333806,\n",
       " -0.008053666746344468,\n",
       " -0.03394146566306254,\n",
       " -0.01939107810303915,\n",
       " 0.008520751084937665,\n",
       " 0.029298928894881126,\n",
       " -0.023325910311909295,\n",
       " -0.006769184815213177,\n",
       " 0.013014669262364375,\n",
       " 0.0011588645627746657,\n",
       " 0.017098119130666667,\n",
       " -0.002310652238281053,\n",
       " -0.020551712760745782,\n",
       " -0.02544902026455288,\n",
       " -0.0318466604655244,\n",
       " -0.01320574871106747,\n",
       " 0.019603389843361553,\n",
       " 0.009844156710951724,\n",
       " -0.00896660406323411,\n",
       " -0.014776850746575962,\n",
       " 0.017805821827332823,\n",
       " -0.011854034604657743,\n",
       " -0.003189973933192756,\n",
       " 0.001070401725691396,\n",
       " 0.0011509029190787034,\n",
       " -0.0081952072856777,\n",
       " -0.01547040013436684,\n",
       " 0.003938370303258326,\n",
       " 0.006620567155781028,\n",
       " 0.018145519866790624,\n",
       " -0.0028591225266892417,\n",
       " -0.005332546664600277,\n",
       " 0.004129450217622699,\n",
       " 0.015116548786033761,\n",
       " -0.019079688543977017,\n",
       " 0.02457146854815782,\n",
       " -0.01521562660477349,\n",
       " 0.011719571185423428,\n",
       " -0.020325246780225546,\n",
       " 0.00962476878185296,\n",
       " -0.003382823127581859,\n",
       " -0.01595163871315787,\n",
       " 0.003389900247680776,\n",
       " -0.019164612122518913,\n",
       " -0.03314883566256427,\n",
       " -0.01825875192572819,\n",
       " -0.010049391331175208,\n",
       " 0.01245558329380781,\n",
       " 0.013396829091093122,\n",
       " -0.012214964004412295,\n",
       " 0.003856984586273973,\n",
       " 0.004500994831864349,\n",
       " 0.005123773949988611,\n",
       " -0.010389088439310454,\n",
       " -0.026864427520530303,\n",
       " 0.0016719497163495461,\n",
       " -0.01924953756370592,\n",
       " 0.009037374332900727,\n",
       " 0.018541833004394652,\n",
       " 3.1431990727521687e-05,\n",
       " 0.01641872305175107,\n",
       " -0.0026892735069603416,\n",
       " 0.010997713317236882,\n",
       " -0.0004546995530430712,\n",
       " -0.025944413083541742,\n",
       " -0.010863249898002568,\n",
       " 0.008499519724640914,\n",
       " 0.027303203378727832,\n",
       " -0.012207886884313377,\n",
       " -0.031705121788836284,\n",
       " -0.0027494283293092205,\n",
       " -0.0026096570700007184,\n",
       " -0.019490155921778878,\n",
       " 0.025675486245073115,\n",
       " -0.003956063103505618,\n",
       " -0.016616880551875636,\n",
       " -0.01174080254572018,\n",
       " -0.0067125683200831175,\n",
       " 0.0048548466458587045,\n",
       " 0.0006099520125679546,\n",
       " -0.013892220978759431,\n",
       " -0.011592184886288031,\n",
       " 0.0020948026364011087,\n",
       " -0.018683375406372993,\n",
       " -0.037225208410767645,\n",
       " 0.01876829898491489,\n",
       " -0.009263840313420963,\n",
       " 0.013885143858660513,\n",
       " 0.007268115728590222,\n",
       " -0.01840029246506142,\n",
       " -0.0229012886939096,\n",
       " 0.01068632375817475,\n",
       " -0.03077095124900478,\n",
       " 0.0060791739874717565,\n",
       " -0.019744930382694783,\n",
       " 0.02459977702855349,\n",
       " 0.01573932697283547,\n",
       " 0.0038286763387089433,\n",
       " -0.003510209659547895,\n",
       " 0.04999218033231503,\n",
       " 0.008549059565333333,\n",
       " 0.013226980071364221,\n",
       " -0.013757757559525116,\n",
       " -0.0160507165318976,\n",
       " 0.011578030646090198,\n",
       " -0.0014012531321949105,\n",
       " -0.0019798008317775386,\n",
       " -0.03043125320954698,\n",
       " -0.026864427520530303,\n",
       " -0.010934020167669183,\n",
       " 0.023042829233242832,\n",
       " 5.009214407163564e-05,\n",
       " 0.01520147329589821,\n",
       " 0.019744930382694783,\n",
       " -0.0006984149660665437,\n",
       " -0.01174080254572018,\n",
       " -0.015852560894418142,\n",
       " 0.016984885209083995,\n",
       " 0.015767635453231135,\n",
       " -0.010842018537705816,\n",
       " 0.011075560707002415,\n",
       " -0.0344793193399998,\n",
       " 0.009143530203061929,\n",
       " 0.001988646999070546,\n",
       " 0.010622630608607051,\n",
       " -0.000659048951177595,\n",
       " 0.0012588277200186757,\n",
       " -0.0024822703052040434,\n",
       " -0.0037402135016256738,\n",
       " 0.010523551858544767,\n",
       " 0.0007696276721546612,\n",
       " -0.008131514136110001,\n",
       " 0.009929081220816174,\n",
       " -0.005941171542526706,\n",
       " -0.003460670517347392,\n",
       " 0.02372222344951332,\n",
       " -0.015371321384304555,\n",
       " 0.02263235999279586,\n",
       " 0.006319792811205994,\n",
       " -0.0021124952038177624,\n",
       " -0.0009350533754064184,\n",
       " 0.005251160714785286,\n",
       " -0.028237372055914225,\n",
       " -0.009900772740420505,\n",
       " 0.015682711874689243,\n",
       " -0.009362918132160692,\n",
       " 0.0015419091479310968,\n",
       " -0.033828231741479864,\n",
       " -0.004207297607388232,\n",
       " -0.01895230224484162,\n",
       " -0.0034412086699060086,\n",
       " -0.003287283170399672,\n",
       " -0.025024398646553182,\n",
       " 0.008074898106641219,\n",
       " 0.043028376111365466,\n",
       " 0.0020594175015678008,\n",
       " -0.029723550512880823,\n",
       " -0.00432760725208599,\n",
       " 0.003395207854924325,\n",
       " -0.00048256539329042894,\n",
       " -0.0005931440851636653,\n",
       " -0.001798451724718537,\n",
       " -0.000962476866543764,\n",
       " -0.017777513346937158,\n",
       " 4.0748246718374826e-05,\n",
       " 0.00815982261650567,\n",
       " -0.036206114292394245,\n",
       " -0.0013048285350003592,\n",
       " -0.013142055561499772,\n",
       " 0.016616880551875636,\n",
       " 0.004281606902765584,\n",
       " 0.005856247032662256,\n",
       " 0.17585017915420745,\n",
       " -0.028124139996976664,\n",
       " -0.013453445120561902,\n",
       " 0.031705121788836284,\n",
       " -0.011811572815386796,\n",
       " 0.005704090813180649,\n",
       " 0.010226316539680471,\n",
       " 0.007052266359540917,\n",
       " 0.004426686002148274,\n",
       " 0.010679246638075833,\n",
       " -0.018725836264321383,\n",
       " -0.00907983705349423,\n",
       " -0.017197196949406395,\n",
       " 0.016772575331406702,\n",
       " 0.004189605272802217,\n",
       " -0.00592347920794069,\n",
       " -0.023042829233242832,\n",
       " -0.023156061292180397,\n",
       " -0.024005306390824894,\n",
       " 0.0034040542550479716,\n",
       " 0.023255139110920125,\n",
       " -0.006065019747273922,\n",
       " -0.013552523870624188,\n",
       " -0.016956578591333437,\n",
       " 0.03221466698537787,\n",
       " 0.012781127093067775,\n",
       " -0.009999851490482789,\n",
       " 0.008442903695172133,\n",
       " 0.013368520610697453,\n",
       " 0.004486840591666514,\n",
       " -0.00529716152976697,\n",
       " -0.013071285291833155,\n",
       " -0.00824474712637012,\n",
       " 0.019815699721038846,\n",
       " -0.007246884833954749,\n",
       " -0.023255139110920125,\n",
       " 0.0014534461944325078,\n",
       " 0.007466272763053513,\n",
       " 0.014330997768279514,\n",
       " 0.005074234574957469,\n",
       " -0.006981495624213023,\n",
       " -0.0018347214995642095,\n",
       " -0.01308543953203099,\n",
       " -0.016135641973084605,\n",
       " -0.002478731745154585,\n",
       " 0.02130187817800544,\n",
       " ...]"
      ]
     },
     "execution_count": 69,
     "metadata": {},
     "output_type": "execute_result"
    }
   ],
   "source": [
    "vector=embedding.embed_query('abc')\n",
    "vector"
   ]
  },
  {
   "cell_type": "code",
   "execution_count": 8,
   "id": "7a858947-ee74-4353-8363-aa86ccecd478",
   "metadata": {
    "scrolled": true
   },
   "outputs": [
    {
     "name": "stdout",
     "output_type": "stream",
     "text": [
      "[-0.0407064954381451, -0.0659482831412245, -0.041176545103018054, 0.013020437743062288, 0.029166719913632393, 0.028015093019287406, 0.006013726631268852, 0.07036676787242312, -0.051423678461194874, -0.06359801991569901, -0.006057794020181328, -0.02919022276940506, -0.035065869657348224, -0.018285018762819055, -0.0014483474216766185, 0.014054551289866489, -0.02848514454680545, -0.02940174660871396, 0.008455058300639418, 0.03699308520425591, -0.00897211553970279, -0.010023856228336493, 0.045360008727070376, -0.004541876586650204, 0.03866176933766427, 0.009659566620472902, 0.022727008212435427, 0.018367276895378294, -0.02627590031856105, 0.018531796885786954, 0.004809218311435368, -0.02907271035318682, -0.0403539563268453, 0.02297378633540333, 0.03762765485953752, 0.01848479117424162, 0.02185741372471734, 0.024536709480479785, 0.01967167235224561, -0.028273620707496547, -0.018543546451028195, -0.018449536890582624, 0.011416385531706213, 0.02418417036917998, -0.042187156725372134, 0.017215650001033308, -0.05118864990346821, 0.012162592820585441, 0.03161099083695836, -0.0010370519858523767, -0.011745421787233352, -0.021716398452726438, 0.06961468393827817, 0.04540701443861571, -0.02636991174165171, -0.021833910868944675, 0.03588846215881116, 0.014924147640229668, -0.02594686406303391, -0.018755070290337097, 0.03052987064728628, 0.003816233830910785, 0.028391134986359878, -0.012632644348103484, 0.03675805664652925, -0.00971832282858202, -0.017415422412455875, 0.030717891630822516, 0.026628439429860856, -0.015523463943174828, 0.024842242880234258, 0.017626946251764777, -0.007579586701994345, 0.01809699777928282, 0.03363221408166653, 0.03490135339222975, -0.009659566620472902, 0.0007990882487064542, 0.0013837152667936967, 0.017873722512087586, -0.0018728629810423484, 0.004189337475350399, -0.008478561156412084, 0.030929415470131418, -0.050859613647941074, -0.054996071560448063, -0.051235655615013545, -0.06623030995991612, -0.002147549697502425, -0.05081261166168593, -0.04058898115928177, 0.025594324951734106, -0.06627731567146145, -0.025194781991534063, -0.03995441150400016, -0.008936861256043793, -0.0030435860621179436, -0.008126022045112279, 0.016921868029165166, 0.011862935134774134, -0.01370201310988923, -0.01326721493470764, -0.0031170315550849786, -0.04174060991627185, 0.01635780507855646, -0.011204861692397311, 0.010946333072865624, -0.03085890690281342, -0.04782777878087883, 0.0030230212961474975, -0.11600880714347529, -0.026628439429860856, 0.01015312100376361, -0.020388500140086457, 0.026040875486124576, -0.0525518006371221, -0.004359731317057135, -0.04503097247154324, -0.0190723551179779, -0.06543122031422584, -0.006903887049110568, 0.01190993991499692, 0.02669894799717885, -0.012421121440117129, 0.020200481019195315, 0.0008042294401990656, 0.04392634942609849, -0.04559503355950685, -0.021622387029635773, -0.0006973660570109079, 0.04127055652610872, -0.04190512618139033, -0.00970069568675252, 0.0073210580824626574, 0.021622387029635773, 0.01249162907611258, -0.020741039251386262, 0.0069920218269355185, 0.0003541914521195134, -0.0357239421684025, 0.020576521123622692, 0.027098490957378898, 0.020529517274722454, -0.006322197887994908, 0.021892666145731248, -0.05250479492557677, -0.03687557092539258, 0.03861476362611894, 0.021105329790572402, 0.004392047278083278, -0.0036605290412313287, 0.0030582751141452233, -0.008214156822937229, -0.03946085525806436, 0.029707280008468433, 0.021469620329758538, -0.007697099583873855, 0.0374396320133562, 0.04331528262658955, 0.005570114885172513, 0.019483651368709373, -0.050718600238595264, -0.04439640281626163, 0.00485916141429101, -0.001157502841118789, 0.00891923504553684, 0.04164659849318118, 0.030012813408222906, -0.056218205159465955, -0.025077267712670732, 0.02782707203575117, 0.014489349465048078, 0.012103836612476323, 0.03156398512541303, 0.04352680460325335, -0.008643079284175653, 0.02789758060306917, -0.012949930107066835, -0.001612865549440188, -0.009618436622870735, -0.050389563983068125, 0.008554944506350701, -0.03238657390158578, 0.014888893356570669, -0.05259880634866743, 0.008578447362123367, 0.05391495137077599, -0.002964264855207742, 0.010811193514817886, 0.004101202697525448, 0.0001525832584394899, 0.03567694018214736, 0.016334304085428887, -0.014806634292688884, -0.029307735185623296, 0.040518472591963776, -0.06256390916286245, -0.05842745125035545, 0.01722740142891964, 0.010423401051181629, 0.03816821309172847, -0.004873850699148926, 0.020200481019195315, -0.0065513484034720355, 0.02255074051943062, -0.0612477604154637, 0.01542945345140671, -0.012303608092576345, -0.026886968980715086, 0.013878282665539133, 0.051423678461194874, -0.024419195201616454, 0.06533721634171555, 0.021199341213663063, -0.018696315013550523, -0.01759169196810578, -0.003569456639265431, 0.01195106898127654, 0.001999189550251927, 0.04841534644990529, -0.03983689722513683, 0.0008644548096246125, 0.02068228397459969, 0.014019297937530036, 0.004521311587849122, -0.016322552657542556, -0.006821627985228783, -0.012785411979303267, 0.04451391336983477, -0.033585208370121196, -0.005734633012936082, -0.008220032536880396, -0.038967302737418746, 0.0068980113351674015, -0.05471404101646626, -0.009113130811693695, 0.006674736999294713, 0.02248023195211262, 0.0083610478088713, -0.01459511138470253, 0.039084813290991886, 0.03673455379075659, 0.03313865783573072, 0.0735161132930585, -0.019906697184682083, -0.016111028818233654, -0.011710167503574353, -0.054667035304920925, -3.321118754759667e-05, 0.05165870329363135, -0.008325794456534847, -0.02622889646966081, 0.03720460718091972, -0.03619399555856564, -0.03689907378116525, 0.003293301110734881, -0.02235096810800805, 0.02018872959130898, 0.02260949579621719, 0.004688767572584274, 0.012409370012230796, -0.02280926820763976, -0.04991951059290499, -0.027098490957378898, -0.009442167067220834, 0.03769816342685552, -0.013466986414807664, -0.017309661424123973, -0.021246345062563305, 0.012961680603630623, 0.000728580438088025, 0.021034823085899493, -0.0061165502282904466, 0.035794450735720504, -0.044795943913816576, -0.01864930930200519, -0.00871946263411427, 0.038379738793682464, 0.004932606907258045, -0.010164872431649942, 0.005038368826912496, 0.022632998651989856, -0.000327016566170664, -0.03107043074212232, -0.0173566671356693, 0.027051487108478656, 0.010206001497929561, 0.03673455379075659, -0.0017803215341753405, 0.03602947929344716, 0.0762894204719116, 0.0018434847605724707, -0.011522147451360662, -0.007908623423182756, -0.02193967185727658, 0.009871089528459257, 0.03447830571361195, 0.011069722134349574, 0.014254323701289057, -0.0018699252404860835, -0.003234544669795126, -0.03468983141556594, -0.014947650496002335, 0.015699732567502185, 0.007697099583873855, -0.021551878462317778, 0.04578305640568818, -0.01325546350682131, 0.008020260125457828, -0.056406228005647284, -0.05682927568426509, -0.020000708607772748, 0.014571608528929863, 0.02315005589105323, -0.010329390559413511, 0.03588846215881116, 0.002793871013501006, 0.012515131931885247, -0.0009569962564916204, -0.04296274351528974, 0.008149524900884945, -0.026581435580960613, 0.02961326858537777, -0.02949575616915953, 0.050013522015995654, -0.03076489734236785, 0.039084813290991886, 0.0447019362160161, -0.013102696806944071, -0.030741394486595183, 0.007749980543701081, 0.015488209659515828, 0.0060519183062381614, -0.0065983536493560944, 0.050530577392413935, 0.027545041491769364, -0.046394123205197126, 0.046887675725842744, -0.033561705514348526, -0.03360871122589386, -0.0402129391922093, -0.012421121440117129, -0.04364431888211669, -0.014912396212343335, 0.003963124816844855, 0.02072928782349993, -0.0381447102359558, 0.020717536395613596, 0.05396195708232132, -0.03431378944849347, 0.021974926140935578, -0.04406736656073449, 0.008325794456534847, -0.019636418068586608, 0.00222980876138421, -0.07074281356478576, 0.03052987064728628, 0.010147245289820443, -0.025124273424216064, -0.014806634292688884, 0.009630188050757068, 0.05400896279386665, 0.060448674495063616, 0.046887675725842744, 0.03410226374653948, 0.023103050179507898, -0.03447830571361195, -0.015182676259761356, -0.004488995626822979, -0.0022724072218108936, -0.013608002618121113, -0.0034695706663847832, 0.04977849718355918, 0.0015394199400578347, 0.010869949722927007, 0.026675445141406188, 0.008925110759480005, 0.022503734807885287, -0.04183461761407233, 0.041388070804972046, -0.006610104611581155, 0.014642116164925315, -0.035441911624420695, -0.019107609401636902, -0.009688944258866187, 0.04836834073835996, -0.010458654403518083, 0.022209952836017146, 0.03349119694703053, 0.011563276517640282, 0.023197061602598563, -0.008431555444866751, 0.006013726631268852, 0.01614628310189265, 0.01515917340398869, -0.021504874613417536, -0.02364361027434394, -0.04731072340446055, -0.004544814443621787, -0.008660706426005152, -0.00970069568675252, 0.05734633106068337, 0.02686346612494242, -0.03170499853475884, 0.01727440714046497, 0.024489703768934452, 0.028203114002823642, -0.0004818031882350118, 0.0032697984877928517, -0.06223486918204512, -0.01719214714526064, -0.09621962610030163, -0.0018963656039843778, 0.011639659867578901, -0.0569702890936109, -0.052786829194848756, -0.037557146292219526, -0.011792426567456138, 0.04926143808185071, -0.040142430624891305, -0.047075698572024066, 0.0028658475779822497, -0.011580903659469783, -0.025030263863770493, 0.013760769317998349, 0.0034108139926143917, 0.0006059262483005846, 0.013455235918243876, 0.021528377469190202, 0.021904417573617583, 0.01568798113961585, 0.04822732360372396, 0.0147243752288071, -0.02206893570138115, -0.04159959278163586, 0.001542357797029418, -0.013067442523285074, -0.018825578857655095, -0.004997239294971603, 0.04660564518186094, -0.04141157366074471, 0.0232440654514988, -0.024372191352716215, -0.027498035780224032, -0.05217575867004963, 0.005182321955874983, -0.0014277826557061724, -0.003281549682848548, 0.009888716670288756, -0.00792037485106909, -0.005126503604737447, 0.007861617711637424, -0.005364467225468051, 0.039977914359772826, -0.002864378649496458, 0.0009915156684541097, -0.01923687324574147, -0.04519548873666172, 0.024066657952961742, 0.018837330285541427, 0.015253183895756807, 0.045712547838370185, -0.06011963823953648, -0.029542761880704864, -0.01685136132449226, -0.007432695716060275, -0.01219784710424444, 0.011486893167701665, -0.01593475926258375, -0.014501100892934412, 0.017709204384324016, 0.0006481574766058207, 0.038191715947501134, -0.024372191352716215, -0.00790274770923959, 0.01004735908410916, -0.025288791551979634, -0.009765328540127353, 0.006298695497883516, 0.006657109857465214, -0.058850498928973254, 0.02719250238046956, 0.023326325446703135, 0.026463921302097286, -0.04150558135854519, 0.0075619600258261185, 0.003169912514912204, -0.022456729096339955, 0.016592831773638027, 0.06524320491862488, 0.022632998651989856, 0.009254147015007144, 0.021822159441058343, -0.010164872431649942, -0.0355124201917387, 0.03696958234848324, -0.020623526835168025, -0.015781992562706515, -0.005317461979583993, -0.0895448895666682, 0.060401668783518284, 0.03852075220302827, -0.008807597411939223, 0.02949575616915953, 0.04763975965998768, 0.02902570464164149, -0.03417277231385747, 0.021246345062563305, 0.03158748798118569, -0.0015004938008456297, -0.009218892731348145, -0.02401965224141641, 0.02935474089716863, 0.011099100704065407, 0.021493123185531204, -0.01826151590704639, 0.028673165530341684, 0.009600810412363783, 0.00897211553970279, 0.0022753448459518406, -0.03762765485953752, -0.02940174660871396, -0.05184672241452249, 0.03377322749101234, 0.016428313645874458, 0.00018122704377030127, -0.003974876244731188, -0.03128195458143122, -0.0021769278015569844, 0.030012813408222906, 0.031846015669394837, -0.014947650496002335, -0.001559984706028281, -0.0041981510462651495, -0.015335442959638592, 0.03934334470449122, 0.015170924831875023, -0.041341065093426714, -0.005173508850621506, -0.021927920429390246, 0.00025889576434164627, 0.007309307120237598, 0.04164659849318118, 0.04340929404968021, -0.01840253117903729, 0.060448674495063616, -0.03252759103622178, -0.007532581456110286, 0.011768924643006017, 0.03602947929344716, 0.017450676696114876, -0.031987032804030834, 0.04780427592510616, -0.0034078761356428084, 0.011069722134349574, 0.02427817992962555, -0.008684208350455271, -0.027216005236242225, -0.029331238041395962, 0.016992376596483165, 0.008748841203830102, -0.007826364359300972, 0.02339683215137604, 0.0024574901155449093, -0.007685348621648796, 0.04789828734819682, -0.02879067794655992, 0.0006463213742062403, 0.060589687904409426, 0.027121993813151564, -0.0034401923294995872, -0.030576876358831613, -0.010899328292642839, 0.023091298751621567, 0.008836975981655055, 0.010270634351304393, 0.019213370389968804, -0.0038926171808494033, 0.015476458231629495, -0.010370519625693131, 0.012949930107066835, -0.008472685442468916, 0.04110603653570005, 0.023960895101984746, -0.02627590031856105, 0.033890741769875665, -0.006574850793583429, -0.000894567494337386, 0.005135317175652196, 0.011445764101422045, -0.03154048226964036, 0.033561705514348526, 0.007133037564587695, 0.007591338129880678, 0.01614628310189265, -0.006580726507526596, -0.01153389794792445, -0.026322906030106383, -0.006657109857465214, 0.051611697582086016, 0.010511535829006581, 0.0012478408952571092, 0.040824005991718246, -0.043244774059271546, -0.015170924831875023, 0.014324831337284509, 0.006451462197760752, 0.01951890565236837, -0.02832062641904188, -0.014912396212343335, -0.02138736033455421, 0.012174344248471775, -0.005264581019756767, -0.02385513411365284, -0.006762871777119664, 0.0009026465428015808, -0.05325687885972171, -0.03612348699124764, 0.04004842292709082, 0.03238657390158578, -0.014759629512466099, -0.012397618584344463, -0.0019139925129832407, -0.014900644784457002, 0.05273982348330342, -0.011475141739815332, -0.01722740142891964, 0.014054551289866489, 0.029472253313386865, 0.009371659431225381, 0.020882054523377165, 0.0362174984143383, 0.04432589424894363, -0.02923722848095039, -0.008695959778341604, -0.04089451455903625, -0.026745953708724183, 0.02009471816821832, -0.011451638884042666, -0.015288438179415807, 0.014618614240475196, 0.018049992067737487, 0.030412358231068044, 0.024419195201616454, 0.020212230584436556, -0.010329390559413511, 0.014689121876470647, 0.02090555737914983, -0.010787690659045222, -0.0022018993529848057, -0.024912749584907162, -0.03946085525806436, 0.03170499853475884, -0.0035107001983256756, 0.01359625119023478, 0.019366138952491136, -0.0083610478088713, -0.03168149940427636, -0.010223628639759062, -0.040682992582372436, -0.02427817992962555, 0.02982479242468667, 0.003551829730266568, 9.107255476100312e-05, -0.048603365570796433, 0.05518409068133921, 0.008108394903282778, 0.021328605057767635, 0.006157679760231339, 0.009295276081286764, -0.05358591511524885, -0.004312726071173076, 0.03224556049223997, -0.04716970626982455, 0.027451030068678703, -0.06270492629749844, -0.009636063764700236, -0.03607648127970231, -0.010206001497929561, 0.017368416700910543, -0.033679219793211854, -0.024912749584907162, -0.01809699777928282, -0.012585639567880698, 0.02401965224141641, -0.03078839833549542, 0.00915426080929586, -0.009606685194984402, 0.020341496291186218, -0.01922512181785514, 0.011081473562235907, 0.00031085852744993357, -0.014089805573525488, -0.03727511574823772, -0.04836834073835996, -0.004110016268440198, 0.017638697679651108, -0.010111991006161444, 0.030388855375295377, -0.04594757267080666, 0.015382448671183924, 0.018790324573996094, -0.026628439429860856, 0.01190993991499692, -0.04124705367033605, -0.023279319735157802, -0.01983619048000918, -0.012573888139994365, 0.02297378633540333, 0.014254323701289057, 0.005499607249177061, -0.011292996470222262, -0.002407547012689267, 0.018191009202373484, 0.028673165530341684, -0.02702798425270599, -0.006216436434001731, -0.011163732626117692, -0.006621856039467488, -0.061623802382536175, -0.038097704524410476, 0.0003852222171359066, 0.016275546945997223, -0.006862757517169676, -0.01568798113961585, 0.004333291069974159, -0.0021431429120450504, 0.00940691371488438, -0.02451320662470712, -0.02676945470185176, 0.0191781179689549, 0.01182180513717197, -0.036664048948728774, 0.00251183977102729, 0.018919588418100666, 0.01662808605729703, 0.0038103581169676186, 0.0059461563865837105, 0.04108253740521757, 0.008672457853891485, -0.020282739151754554, -0.015488209659515828, 0.0007061795115103393, 0.028767175090787255, 0.03363221408166653, -0.01701587945225583, 0.030882409758586086, 0.021669392741181105, -0.009142509381409527, 0.0035459540163234014, 0.011457514597985831, 0.007879244853466924, 0.02243322624056729, -0.025030263863770493, 0.018296770190705386, -0.0041070784114686145, 0.0627519245584634, 0.010064986225938658, 0.026134885046570147, 0.005531923210203204, -0.0009489172662350847, 0.02919022276940506, -0.017286158568351306, 0.011956944695219707, -0.006627731753410655, 0.004967861190917044, 0.02427817992962555, 0.005220513630844291, 0.0033784980315882487, 0.03076489734236785, 0.028978698930096157, -0.009036747461755076, 0.0059461563865837105, 0.008296415886819014, 0.04303325208260774, 0.0065513484034720355, 0.006427959807649359, 0.014712624732243313, -0.02277401392398076, 0.021998428996708244, 0.019789184768463846, 0.01680435561294693, 0.02879067794655992, -0.0296602742969231, -0.022209952836017146, -0.030905912614358752, 0.026745953708724183, 0.022503734807885287, 0.002107888861216688, -0.05443201047248445, -0.0005163226001975009, 0.018708064578791764, -0.0187198160066781, -0.020118221023990985, 0.001482132427603871, 0.042022640460253655, 0.025617827807506773, -0.04526599730397971, -0.005502545106148645, -0.004124705553298114, 0.02676945470185176, 0.005343902692328242, 0.02627590031856105, 0.0725760139633126, 0.03483084482491175, 0.01209208518458999, 0.014242572273402724, 0.01927212752940047, -0.04486645248113458, -0.00500311500891477, -0.00251183977102729, -0.030999922174804323, -0.030811901191268087, 0.04921443237030538, -0.021128832646345064, -0.021704647024840106, 0.04383233800300783, -0.021904417573617583, -0.01631080122965622, 0.004882664270063676, 0.04197563474870832, 0.00022107127783804073, 0.013478737842693997, -0.015981764974129082, 0.059743596272464006, 0.027121993813151564, -0.009506799920595665, -0.040001417215545496, 0.02693397282961533, 0.0038103581169676186, 0.04749874252535169, 0.00652784554769937, 0.032010535659803496, -0.004923793802004569, 0.003020083439175914, 0.013455235918243876, -0.015817246846365512, 0.013513992126352995, 0.0006734962019474306, 0.02298553776328966, 0.008654830712061986, -0.03222205763646731, -0.020000708607772748, -0.02961326858537777, -0.007761731971587414, -5.058566448072982e-05, 0.007091908032646803, -0.0050148659711398294, 0.01065842681494065, -0.025594324951734106, -0.017709204384324016, 0.013725515034339351, -0.014383587545393628, -0.016487070785306125, -0.0374396320133562, -0.005761073725680331, -0.012209597600808227, 0.019648169496472943, 0.005869773036645092, 0.001089198365021388, -0.01680435561294693, 0.013020437743062288, 0.016957122312824167, -0.0008387488521615548, -0.021434366046099537, -0.020212230584436556, -0.012726654839871602, 0.018531796885786954, 0.02228045954069005, 0.0008666582023533, 0.011046219278576908, 0.008601949286573487, -0.05386794565923066, -0.0020403190821928195, 0.016745598473515266, -0.00654547268952887, -0.021751650873740345, 0.04996651630445032, 0.04075350114969043, -0.01513567147953857, 0.0462766089263338, -0.041176545103018054, 0.026252397462788384, -0.03182251281362217, 0.03638201840474697, 0.008349296380984967, 0.012844168187412386, 0.03135246314874922, 0.01719214714526064, 0.006151804046288172, 0.028085601586605405, -0.007397441898062549, 0.01626379551811089, -0.02260949579621719, -0.009606685194984402, -0.03382023320255767, -0.01292642725129417, -0.013760769317998349, 0.0036399642752608825, -0.05043656969461346, 0.0035342025884370683, -0.037721666282628186, 0.03283312443597625, -0.01984794190789551, 0.023866885541539172, -0.02393739224621208, -0.011739546073290185, -0.002783588514100465, 0.00010796504317271459, -0.002718956359217543, 0.019448397085050372, -0.02611138219079748, 0.016651588913069695, 0.03182251281362217, 0.013890033162102921, 0.001078181517793269, 0.00776760768553058, -0.020082966740331984, 0.006063669268463221, -0.03830923022636447, 0.014912396212343335, 0.0031258451259997284, 0.013725515034339351, -0.026722450852951517, 0.011357629323597093, 0.02902570464164149, -0.021117081218458733, 0.031799009957849504, -0.013948790301534585, 0.0017773836772037573, 0.007679472907705629, -0.0116220327257494, 0.009107255097750528, 0.026957475685387994, 0.047075698572024066, 0.021916169001503914, -0.039413849546519025, -0.0015541091085004327, -0.030647383063504518, -0.017556437684446778, 0.021081826934799736, 0.0029862985496639798, -0.0005383562946537387, 0.006980270864710459, -0.010605546320774699, -0.007908623423182756, -0.029848295280459337, 0.02611138219079748, 0.03189302138094017, -0.016275546945997223, 0.013208457795275977, 0.020388500140086457, 0.04902641324941424, -0.013843028381880134, 0.011198985978454144, 0.009618436622870735, 0.03450180856938461, 0.020212230584436556, 0.02401965224141641, 0.0013278965664102066, -0.061858830940262836, -0.016487070785306125, -0.033373686393457384, -0.0252417858404343, -0.016780852757174263, 0.0026264150287658534, 0.002193085782070056, -0.009871089528459257, -0.03118794315834056, -0.005258705771474873, 0.005050120254798829, 0.0038573633628516775, 0.004697581143499024, 0.0015629225629998642, 0.03988390293668216, -0.005170570993649922, 0.00609892355212222, 0.04681716715852474, -0.01282066533163972, 0.0003334430700883432, 0.0048356590241796175, -0.014172064637407273, 0.020376750574845216, -0.006821627985228783, -0.026252397462788384, 0.0011046219977068818, -0.029636771441150435, 0.0039954412435322705, -0.003731036910057417, 0.013690261682002897, -0.006339825029824408, -0.0034960109134677592, 0.007996758201007708, 0.006474965053533417, 0.028297123563269213, 0.008966239825759625, -0.029683777152695767, -0.019260376101514137, 0.0296602742969231, 0.011721918931460686, -0.02380812840210751, 0.018155754918714483, -0.012996934887289622, 0.03212804621337664, 0.009166012237182193, -0.04369132459366202, 0.02498325815222516, 0.00779698578958514, 0.044678433360243436, 0.0014777256421464962, 0.018896085562328, -0.022962034907516995, -0.03967238096001836, 0.012703152915421482, -0.028673165530341684, -0.02394914367409841, 0.045712547838370185, -0.019577660929154944, -0.01309094537905774, 0.027451030068678703, -0.015499961087402161, -0.0211405840742314, 0.031140937446795226, -0.0014630364737038982, -0.03581795359149317, -0.03570044303792002, 0.023749371262675845, -0.002735114572561251, 0.012949930107066835, 0.006950892294994626, 0.00803201155334416, 0.03915532185830989, -0.017415422412455875, 0.0023091299682944113, -0.04503097247154324, -0.0009364314905211742, -0.00975357711224102, -0.034219778025402804, 0.01178655085351297, 0.023678864558002936, -0.012985183459403289, -0.05494906584890273, 0.02665194228563352, 0.04145857564699986, -0.002165176606501288, -0.007620716233935237, -0.0059784723476098535, 0.008343421598364346, 0.018990096985418665, 0.013772520745884682, 0.03612348699124764, 0.0034137518495859745, -0.027380523364005795, 0.0017950107026179385, 0.007761731971587414, 0.0004403064241726715, -0.007791110075641973, 0.0024604279725164925, 0.00025412180497048263, 0.003454881381526867, 0.004162897228267424, 0.028931693218550825, 0.007655970051932963, -0.035277395359302216, -0.004456679665796836, 0.012397618584344463, 0.011721918931460686, -0.01399579508175737, -0.00624581453805629, -0.009647815192586569, 0.0034783840044688963, 0.019377888517732374, 0.024325185641170883, -0.029519259024932198, 0.008190653967164563, -0.0006687222425762669, -0.012421121440117129, -0.021328605057767635, -0.0054144103283236935, 0.04007192578286349, 0.050060527727540986, 0.050530577392413935, -0.01138700696199038, -0.007532581456110286, -0.017720955812210348, 0.012468126220339914, -0.001344789127581492, 0.015946510690470084, -0.026557932725187947, -0.0024809927384869387, -0.01983619048000918, -0.02869666838611435, -0.02547681253551587, -0.017709204384324016, -0.03558292875905669, 0.01567623157437461, 0.00749732763811256, 0.014571608528929863, 0.009042623175698244, 0.003986627672617521, 0.01169841607568802, 0.054196981914757796, -0.023667113130116605, 0.04526599730397971, 0.009565556128704784, -0.00986521381451609, 0.0230677958958489, 0.0026851714697056087, -0.01794423107940558, -0.012738406267757935, 0.03335018353768472, -0.0008908952313305661, -0.01961291521281394, 0.045336505871297714, -0.003263922773849685, 0.04883839040323291, 0.018919588418100666, 0.00867833356783465, -0.0015438267255152096, -0.011269494545772142, 0.02126984791833597, -0.024054906525075408, -0.011915815628940087, 0.019213370389968804, 0.013372976854362091, -0.01863755787411886, 0.013231960651048643, -0.032880130147521586, -0.04077700028017291, 0.04832133502681463, -0.005008990722857936, 0.011292996470222262, -0.0017773836772037573, 0.011598530801299281, -0.007150664240755921, -0.019742179056918514, -0.04261020440398994, 0.005981410204581436, -0.014759629512466099, 0.006610104611581155, 0.0032991768246780472, 0.014677370448584314, 0.02644041844632462, 0.00875471691777327, 4.8841330093745756e-05, -0.02001246003565908, 0.008478561156412084, 0.050859613647941074, -0.007091908032646803, -0.01768570339119644, 0.004759275208579726, 0.0014094212824644137, -0.010064986225938658, -0.014418841829052627, 0.013843028381880134, -0.023490843574466704, 0.023620107418571273, 0.020047712456672986, -0.0025515003744823904, -0.02907271035318682, 0.018367276895378294, -0.003560643068350681, 0.03588846215881116, -0.014360085620943508, 0.013560996906575782, 0.00515881956576359, -0.03036535251952271, -0.006521969833756204, -0.002475117024543772, 0.0020447256348195574, 0.016769101329287932, -0.035441911624420695, 0.002804153280070911, 0.006357451705992634, 0.03657003752563811, 0.03483084482491175, -0.01968342378013194, -0.0252417858404343, 0.004571254690704764, 0.03903781130473674, -0.006809877023003723, -0.005070684787938639, 0.013020437743062288, -0.03107043074212232, -0.003769228585026726, 0.030247840103304474, 0.00359883474331999, -0.03464282570402061, -0.034760336257593755, 0.0023722931946915412, 0.018355527330137053, 0.026487424157869952, 0.011610282229185614, -0.003578269977349544, 0.0037751042989698927, -0.013890033162102921, 0.003798606921911922, 0.017121640440587737, 0.010435152479067962, -0.02169289559695377, -0.01614628310189265, -0.025006761007997827, 0.012644395775989817, 0.023620107418571273, 0.03555942590328403, -0.001414562415749366, -0.010076737653824991, -0.005913840425557568, 0.009389286573054881, -0.029472253313386865, 0.0010223628174097787, -0.005761073725680331, 0.001510041719587957, -0.007985006773121375, -0.02322056445837123, 0.020247484868095553, 0.002015347530764998, 0.04959047433737785, -0.029378243752941294, 0.002185741372471734, -0.02238622239166705, 0.007961503917348709, 0.03107043074212232, 0.017744458667983014, 0.004747524246354666, -0.016287298373883555, 0.009418665142770713, 0.001191287730630723, 0.007814612931414638, -0.006292819783940349, 0.008296415886819014, -0.007749980543701081, 0.04806280733860548, -0.002102013380104158, -0.007232923304637706, 0.006968519436824126, 0.008701835492284772, 0.00861370071445982, -0.01225660331235356, -0.0027718373190447686, -0.0029084460384089334, -0.014465846609275412, -0.018026491074609914, -0.012703152915421482, -0.010987463070467789, 0.0030994046460861156, 0.014195567493179939, -0.004562441119790014, -0.02611138219079748, -0.028743674097659683, 0.022362719535894384, -0.03323266925882139, -0.05485505442581207, -0.035277395359302216, -0.020047712456672986, 0.019131112257409568, -0.028085601586605405, 0.00470345685744219, 0.027216005236242225, -0.027968087307742074, -0.006627731753410655, 0.04806280733860548, 0.020423754423745458, -0.01236236523200801, -0.004450803951853669, -0.03419627516963014, 0.000651095333577404, -0.018790324573996094, 0.03438429429052128, 0.019119360829523233, -0.009577307556591117, 0.014125059857184487, 0.04366782173788935, 0.010076737653824991, 0.006398581237933527, 0.050201541136886796, -0.01783847009107368, -0.010875825436870172, 0.007103659460533136, -0.0041070784114686145, 0.0058345192186473665, 0.02594686406303391, 0.01705113187326974, -0.02347909214658037, -0.008660706426005152, 0.0067687474910628305, 0.018249764479160057, -0.022703507219307854, -0.0065513484034720355, 0.02105832407902707, 0.0033931870836155288, -0.022915029195971662, -0.013807774098221136, -0.004271596539232184, -0.00973594997041152, -0.006057794020181328, 0.017779712951642015, -0.009741825684354687, 0.01635780507855646, -0.03924933328140055, 0.02298553776328966, 0.004209902474151482, 0.016663340340956026, 0.023126553035280564, -0.008343421598364346, -0.016416562217988127, 0.01629904980176989, 0.01282066533163972, 0.0021769278015569844, -0.02460721618515269, 0.012609142423653364, 0.024254677073852884, -0.00790274770923959, 0.006762871777119664, -0.013878282665539133, -0.005531923210203204, 0.010717183023049769, 0.006974395150767292, -0.007238799018580873, 0.028673165530341684, 0.046934681437388076, 0.019483651368709373, -0.04124705367033605, 0.028884689369650586, 0.00828466445893268, -0.009524426131102619, -0.02444269805738912, -0.025265288696206967, -0.013102696806944071, -0.004829783310236451, 0.029002201785868823, -0.03273911301288559, 0.01750943383554654, 0.0021989614960132224, -0.029378243752941294, 0.02090555737914983, -0.028720171241887017, 0.018073494923510153, -0.004700519000470607, -0.007726478153589688, 0.00360764831423474, -0.010305887703640847, 0.01977743334057751, 0.035089372513120894, -0.019319133240945804, 0.02030624200752722, -0.017709204384324016, -0.013337722570703094, -0.011575027945526615, -0.015370697243297591, 0.03499536481532041, 0.0075619600258261185, 0.011874685631337922, 0.02693397282961533, -0.022703507219307854, -0.010505660115063414, 0.010452778689574916, -0.0005747118672234675, 0.0016216790039396195, -0.02181040801317201, -0.0009496517304779805, -0.021117081218458733, -0.009089628887243574, -0.006986146112992352, -0.003951373854619795, -0.031328960292976556, -0.05245779293932162, 0.018531796885786954, -0.012115588040362656, 0.004603570651730907, -0.01542945345140671, 0.009459794209050333, 0.007074280890817303, 0.025664833519052105, -0.003093528932142949, 0.029965807696677574, 0.0006503608693345081, 0.010934582576301838, -0.04054197544773644, 0.014947650496002335, 0.01219784710424444, -0.02235096810800805, 0.029213725625177725, -0.014054551289866489, 0.02181040801317201, -0.013408230206698546, -0.035982473581901826, -0.02169289559695377, 0.004959047620002295, -0.017650449107537443, 0.04284522923642641, 0.00022602885326992832, 0.03360871122589386, 0.019659920924359274, 0.015546966798947494, 0.05302185402728524, 0.019424894229277706, -0.0058462706465337, 0.01830852161859172, -0.029707280008468433, -0.01443059325693896, -0.01286767104318505, -1.3495630396589324e-05, -0.003543016159351818, 0.020200481019195315, -0.0025515003744823904, 0.0005119158729477852, 0.036170492702792975, 0.004209902474151482, 0.009295276081286764, -0.02589986021413367, 0.014418841829052627, -0.00823178396476673, 0.04105903454944491, 0.036476026102547444, -0.002052070277248516, -0.006727617959121938, 0.014383587545393628, 0.03036535251952271, 0.002315005682237578, -0.004233404864262875, -0.05250479492557677, 0.018860833141314093, -0.0037427881051131135, 0.0016069899519123398, -0.0033843737455314152, -0.030882409758586086, 0.01906060369009157, -0.007021400396651351, -0.025335797263524966, 0.015911256406811083, 0.01950715422448204, -0.0018302645206156644, -0.012667898631762483, 0.03884978845855541, 0.03515988108043889, 0.01286767104318505, -0.022045434708253576, 0.027121993813151564, 0.03139946513500437, 0.04921443237030538, -0.010082613367768159, 0.02702798425270599, 0.008413929234359798, 0.006339825029824408, 0.018332024474364387, 0.01927212752940047, 0.004130580801580007, -0.018049992067737487, 0.03189302138094017, 0.011234240262113143, 0.027451030068678703, 0.009800581892463805, -0.00036704443085104225, -0.014959401923888668, 0.005711130622824689, -0.013913536017875585, -0.020752790679272597, -0.0003115929916928294, -0.021822159441058343, -0.007068405176874137, -0.03525389250352955, -0.015523463943174828, 0.03158748798118569, -0.015570468723397613, 0.016169785957665318, 0.04486645248113458, -0.0015908318549839502, 0.04444340852780696, 0.032856627291748916, -0.01701587945225583, 0.08616051558830615, 0.005860959465730343, -0.021587132745976775, -0.019319133240945804, 0.00861370071445982, -0.006093047838179054, 0.01864930930200519, 0.008002633914950874, -0.004630011364475156, -0.00765009480365107, 0.011281245042335929, 0.03276261586865825, -0.0065513484034720355, -0.011510396023474331, 0.006821627985228783, -0.003522451393381372, -0.03085890690281342, -0.005455539860264586, -0.006145928332345006, 0.03854425505880094, -0.004903228803203485, 0.04124705367033605, -0.008173027756657611, -2.3869822321669063e-05, 0.008026135839400993, 0.005167633136678339, -0.01555871729551128, 0.031657996548503695, 0.009800581892463805, -0.015006406704111453, -0.06970869536136884, 0.05673526426117442, 0.011122602628515527, -0.014794883796125098, -0.038097704524410476, -0.01801473964672358, 0.04108253740521757, 0.0318695185251675, -0.012233100456580893, 0.005863897322701926, -0.039108316146764556, 0.03746313486912886, 0.011304747898108595, 0.021669392741181105, 0.03107043074212232, 0.0007682410415431257, -0.016346055513315222, -0.024007900813530075, 0.005766948973962225, -0.016111028818233654, -0.0027879952995578396, 0.0040865138783288055, -0.018320273046478052, -0.007303431406294431, 0.01856704930680086, 0.006134177370119946, 0.041176545103018054, -0.022397971956908288, -0.006416208379763026, 0.02243322624056729, -0.013408230206698546, -0.0276625539079876, -0.009876965242402422, 0.000183889447546969, 0.013713763606453018]\n"
     ]
    }
   ],
   "source": [
    "vector=embedding.embed_query(chunks[0].page_content)\n",
    "print(vector)"
   ]
  },
  {
   "cell_type": "markdown",
   "id": "0e1dba64-1145-4fd7-9bc3-b239428a8b64",
   "metadata": {},
   "source": [
    "* This is the embedding of the first chunk"
   ]
  },
  {
   "cell_type": "markdown",
   "id": "4682903a-e34d-4d80-846f-8d6f87bbdd5a",
   "metadata": {},
   "source": [
    "# Insert the Embeddings into a Pinecone Index"
   ]
  },
  {
   "cell_type": "code",
   "execution_count": 11,
   "id": "92bfacd7-7393-4686-a158-79e98d6d7739",
   "metadata": {},
   "outputs": [],
   "source": [
    "import pinecone\n",
    "from langchain_community.vectorstores import Pinecone\n",
    "\n",
    "pc =pinecone.Pinecone()"
   ]
  },
  {
   "cell_type": "code",
   "execution_count": 12,
   "id": "90ff4a3c-2b22-4b3d-900a-abce5d5f017e",
   "metadata": {},
   "outputs": [
    {
     "name": "stdout",
     "output_type": "stream",
     "text": [
      "deleting all indexes...\n",
      "Done\n",
      "deleting all indexes...\n",
      "Done\n"
     ]
    }
   ],
   "source": [
    "for i in pc.list_indexes().names():\n",
    "    print('deleting all indexes...')\n",
    "    pc.delete_index(i)\n",
    "    print('Done')"
   ]
  },
  {
   "cell_type": "code",
   "execution_count": 13,
   "id": "134b0eeb-18ca-42e9-bdd1-52bb61970b4e",
   "metadata": {},
   "outputs": [
    {
     "name": "stdout",
     "output_type": "stream",
     "text": [
      "creating index deneme...\n",
      "Done\n"
     ]
    }
   ],
   "source": [
    "index_name='deneme'\n",
    "if index_name not in pc.list_indexes().names():\n",
    "    print(f'creating index {index_name}...')\n",
    "    pc.create_index(\n",
    "        name=index_name,\n",
    "        dimension=1536,\n",
    "        metric='cosine',\n",
    "        spec=pinecone.PodSpec(\n",
    "            environment='gcp-starter'\n",
    "        )\n",
    "    )\n",
    "    print('Done')"
   ]
  },
  {
   "cell_type": "markdown",
   "id": "89220e97-c431-4f7f-b824-5fb80db58a41",
   "metadata": {},
   "source": [
    "* Chunks is a list of text documents that have been obtained by calling the recursive character text splitter method.\n",
    "* These smaller chunks will be indexed in pinecone to make it easier to search and retrieve relevant information.\n",
    "* Embeddings is an instance of OpenAI embeddings class which is responsible for converting text data into embeddings using OpenAI's embedding model.\n",
    "* These embeddings will be stored in the pinecone index and used for similarity search.\n",
    "* index_name is used to identify the index in pinecone database and must already exist."
   ]
  },
  {
   "cell_type": "code",
   "execution_count": 14,
   "id": "87d42bea-83c9-4628-a670-47db1ed35ea7",
   "metadata": {},
   "outputs": [],
   "source": [
    "vector_store = Pinecone.from_documents(chunks, embedding, index_name=index_name)"
   ]
  },
  {
   "cell_type": "markdown",
   "id": "9b564d59-4225-4240-b10d-a6a3a2a069f8",
   "metadata": {},
   "source": [
    "# Asking Questions (Similarity Search)"
   ]
  },
  {
   "cell_type": "markdown",
   "id": "51c0f00a-be18-4cb9-81b6-ce83b319b1a3",
   "metadata": {},
   "source": [
    "* How it works?\n",
    "* The user defines a query. The query is embedded into a vector.\n",
    "* A similarity search is performed in the vector database, and the text behind the most similar vectors is the answer to the user's question."
   ]
  },
  {
   "cell_type": "code",
   "execution_count": 82,
   "id": "780ecdc1-78b7-4462-85a9-956d52933631",
   "metadata": {},
   "outputs": [
    {
     "name": "stdout",
     "output_type": "stream",
     "text": [
      "[Document(page_content='shall ﬁght on the landing grounds, we shall ﬁght in the ﬁelds and in the streets, we shall'), Document(page_content='ﬁght in the hills; we shall never surrender, and even if, which I do not for a moment'), Document(page_content='shall defend our Island, whatever the cost may be, we shall ﬁght on the beaches, we'), Document(page_content='ﬂag or fail. We shall go on to the end, we shall ﬁght in France, we shall ﬁght on the seas')]\n"
     ]
    }
   ],
   "source": [
    "query='who is my internship mate?'\n",
    "result= vector_store.similarity_search(query)\n",
    "print(result)"
   ]
  },
  {
   "cell_type": "code",
   "execution_count": 83,
   "id": "b8876eca-ac8c-429b-8e13-1e36d5de5749",
   "metadata": {},
   "outputs": [
    {
     "name": "stdout",
     "output_type": "stream",
     "text": [
      "shall ﬁght on the landing grounds, we shall ﬁght in the ﬁelds and in the streets, we shall\n",
      "--------------------------------------------------\n",
      "ﬁght in the hills; we shall never surrender, and even if, which I do not for a moment\n",
      "--------------------------------------------------\n",
      "shall defend our Island, whatever the cost may be, we shall ﬁght on the beaches, we\n",
      "--------------------------------------------------\n",
      "ﬂag or fail. We shall go on to the end, we shall ﬁght in France, we shall ﬁght on the seas\n",
      "--------------------------------------------------\n"
     ]
    }
   ],
   "source": [
    "for r in result:\n",
    "    print(r.page_content)\n",
    "    print('-' * 50)"
   ]
  },
  {
   "cell_type": "markdown",
   "id": "3964b4c1-a7a8-48e2-808f-8f03e930607b",
   "metadata": {},
   "source": [
    "We need to answer in natural language. That's where LLM comes in, will retrieve the most relevant chunks of text and feed them to the language model for the final answer."
   ]
  },
  {
   "cell_type": "code",
   "execution_count": 16,
   "id": "392f0cdb-206e-4763-9c84-5925673453ac",
   "metadata": {},
   "outputs": [],
   "source": [
    "from langchain.chains import RetrievalQA\n",
    "from langchain.chat_models import ChatOpenAI\n",
    "\n",
    "llm= ChatOpenAI(model='gpt-3.5-turbo', temperature=1)\n",
    "\n",
    "retriever = vector_store.as_retriever(search_type='similarity', search_kwargs={'k':3})\n",
    "# k equals 3 means that it will return the three most similar chunks to the user's query.\n",
    "\n",
    "chain= RetrievalQA.from_chain_type(llm=llm, chain_type='stuff', retriever=retriever)"
   ]
  },
  {
   "cell_type": "code",
   "execution_count": 24,
   "id": "fd7a236b-c744-4813-bb0c-186e4563c4aa",
   "metadata": {},
   "outputs": [
    {
     "name": "stdout",
     "output_type": "stream",
     "text": [
      "Your first internship was completed in another company, which took 6 months to finish. Your current internship topic is cyber security in avionic systems.\n"
     ]
    }
   ],
   "source": [
    "#query='where should we fight?'\n",
    "query='where is my first intern and what is my internship topic? '\n",
    "answer=chain.run(query)\n",
    "print(answer)"
   ]
  },
  {
   "cell_type": "code",
   "execution_count": 25,
   "id": "d508970e-dd87-4359-8f20-234278c5d70a",
   "metadata": {},
   "outputs": [],
   "source": [
    "engine= pyttsx3.init()\n",
    "engine.say(answer)\n",
    "engine.runAndWait()"
   ]
  },
  {
   "cell_type": "code",
   "execution_count": 20,
   "id": "f7b559e3-9438-4b02-a9bc-7e7391ad08aa",
   "metadata": {},
   "outputs": [],
   "source": [
    "import pyttsx3"
   ]
  },
  {
   "cell_type": "code",
   "execution_count": 21,
   "id": "0002d4af-de85-4aae-8810-06b0e04a117f",
   "metadata": {},
   "outputs": [],
   "source": [
    "engine= pyttsx3.init()"
   ]
  },
  {
   "cell_type": "code",
   "execution_count": 103,
   "id": "0152eb08-2357-47db-8dcf-7c393e649e73",
   "metadata": {},
   "outputs": [],
   "source": [
    "engine.say(answer)\n",
    "engine.runAndWait()"
   ]
  },
  {
   "cell_type": "code",
   "execution_count": null,
   "id": "0d10ded3-4b32-4471-bdd4-d7ab1a8a9ec9",
   "metadata": {},
   "outputs": [],
   "source": [
    "import speech_recognition as sr\n",
    "import keyboard\n",
    "import time"
   ]
  },
  {
   "cell_type": "code",
   "execution_count": null,
   "id": "73697dd8-62b0-4fb3-8cce-c79dfa6eacb8",
   "metadata": {},
   "outputs": [],
   "source": [
    "recognizer = sr.Recognizer()\n",
    "is_listening = False\n",
    "\n",
    "def start_listening():\n",
    "    global is_listening\n",
    "    is_listening = True\n",
    "    print(\"Listening... Press 'L' to stop.\")\n",
    "    \n",
    "    while is_listening:\n",
    "        try:\n",
    "            with sr.Microphone() as mic:\n",
    "                recognizer.adjust_for_ambient_noise(mic, duration=0.2)\n",
    "                audio = recognizer.listen(mic)\n",
    "\n",
    "                text = recognizer.recognize_google(audio)\n",
    "                text = text.lower()\n",
    "\n",
    "                print(f'Recognized: {text}')\n",
    "                \n",
    "        except sr.UnknownValueError:\n",
    "            # Bilinmeyen bir değer hatası, yani ses tanınamadı.\n",
    "            print(\"Could not understand audio\")\n",
    "        except sr.RequestError:\n",
    "            # Google API'ye erişim hatası.\n",
    "            print(\"Could not request results; check your network connection\")\n",
    "            break\n",
    "\n",
    "def stop_listening():\n",
    "    global is_listening\n",
    "    is_listening = False\n",
    "    print(\"Stopped listening.\")\n",
    "\n",
    "# Ana döngü\n",
    "print(\"Press 'L' to start/stop listening.\")\n",
    "while True:\n",
    "    if keyboard.is_pressed('l'):\n",
    "        if not is_listening:\n",
    "            start_listening()\n",
    "        else:\n",
    "            stop_listening()\n",
    "        # Tuşa basma işlemi tamamlandıktan sonra bir süre bekleyerek tekrar basılmasını engelleyin\n",
    "        time.sleep(1)"
   ]
  },
  {
   "cell_type": "markdown",
   "id": "481e1fcf-d1e5-4807-bd9a-fef7ff325f99",
   "metadata": {},
   "source": [
    "# Text-to-Speech"
   ]
  },
  {
   "cell_type": "code",
   "execution_count": 37,
   "id": "f6790d41-182b-41e1-a8e3-6ff69edd3eff",
   "metadata": {},
   "outputs": [],
   "source": []
  },
  {
   "cell_type": "code",
   "execution_count": null,
   "id": "2d117571-30a2-4aff-b895-7c9d23ffc7fb",
   "metadata": {},
   "outputs": [],
   "source": []
  },
  {
   "cell_type": "code",
   "execution_count": null,
   "id": "c685ed6d-19b0-4316-b46d-d1fa0607d976",
   "metadata": {},
   "outputs": [],
   "source": []
  }
 ],
 "metadata": {
  "kernelspec": {
   "display_name": "Python 3 (ipykernel)",
   "language": "python",
   "name": "python3"
  },
  "language_info": {
   "codemirror_mode": {
    "name": "ipython",
    "version": 3
   },
   "file_extension": ".py",
   "mimetype": "text/x-python",
   "name": "python",
   "nbconvert_exporter": "python",
   "pygments_lexer": "ipython3",
   "version": "3.12.4"
  }
 },
 "nbformat": 4,
 "nbformat_minor": 5
}
